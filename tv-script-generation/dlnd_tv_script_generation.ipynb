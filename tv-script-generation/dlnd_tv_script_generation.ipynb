{
 "cells": [
  {
   "cell_type": "markdown",
   "metadata": {},
   "source": [
    "# TV Script Generation\n",
    "In this project, you'll generate your own [Simpsons](https://en.wikipedia.org/wiki/The_Simpsons) TV scripts using RNNs.  You'll be using part of the [Simpsons dataset](https://www.kaggle.com/wcukierski/the-simpsons-by-the-data) of scripts from 27 seasons.  The Neural Network you'll build will generate a new TV script for a scene at [Moe's Tavern](https://simpsonswiki.com/wiki/Moe's_Tavern).\n",
    "## Get the Data\n",
    "The data is already provided for you.  You'll be using a subset of the original dataset.  It consists of only the scenes in Moe's Tavern.  This doesn't include other versions of the tavern, like \"Moe's Cavern\", \"Flaming Moe's\", \"Uncle Moe's Family Feed-Bag\", etc.."
   ]
  },
  {
   "cell_type": "code",
   "execution_count": 1,
   "metadata": {
    "collapsed": true
   },
   "outputs": [],
   "source": [
    "\"\"\"\n",
    "DON'T MODIFY ANYTHING IN THIS CELL\n",
    "\"\"\"\n",
    "import helper\n",
    "\n",
    "data_dir = './data/simpsons/moes_tavern_lines.txt'\n",
    "text = helper.load_data(data_dir)\n",
    "# Ignore notice, since we don't use it for analysing the data\n",
    "text = text[81:]"
   ]
  },
  {
   "cell_type": "markdown",
   "metadata": {},
   "source": [
    "## Explore the Data\n",
    "Play around with `view_sentence_range` to view different parts of the data."
   ]
  },
  {
   "cell_type": "code",
   "execution_count": 2,
   "metadata": {},
   "outputs": [
    {
     "name": "stdout",
     "output_type": "stream",
     "text": [
      "Dataset Stats\n",
      "Roughly the number of unique words: 11492\n",
      "Number of scenes: 262\n",
      "Average number of sentences in each scene: 15.248091603053435\n",
      "Number of lines: 4257\n",
      "Average number of words in each line: 11.50434578341555\n",
      "\n",
      "The sentences 0 to 10:\n",
      "Moe_Szyslak: (INTO PHONE) Moe's Tavern. Where the elite meet to drink.\n",
      "Bart_Simpson: Eh, yeah, hello, is Mike there? Last name, Rotch.\n",
      "Moe_Szyslak: (INTO PHONE) Hold on, I'll check. (TO BARFLIES) Mike Rotch. Mike Rotch. Hey, has anybody seen Mike Rotch, lately?\n",
      "Moe_Szyslak: (INTO PHONE) Listen you little puke. One of these days I'm gonna catch you, and I'm gonna carve my name on your back with an ice pick.\n",
      "Moe_Szyslak: What's the matter Homer? You're not your normal effervescent self.\n",
      "Homer_Simpson: I got my problems, Moe. Give me another one.\n",
      "Moe_Szyslak: Homer, hey, you should not drink to forget your problems.\n",
      "Barney_Gumble: Yeah, you should only drink to enhance your social skills.\n",
      "\n",
      "\n"
     ]
    }
   ],
   "source": [
    "view_sentence_range = (0, 10)\n",
    "\n",
    "\"\"\"\n",
    "DON'T MODIFY ANYTHING IN THIS CELL\n",
    "\"\"\"\n",
    "import numpy as np\n",
    "\n",
    "print('Dataset Stats')\n",
    "print('Roughly the number of unique words: {}'.format(len({word: None for word in text.split()})))\n",
    "scenes = text.split('\\n\\n')\n",
    "print('Number of scenes: {}'.format(len(scenes)))\n",
    "sentence_count_scene = [scene.count('\\n') for scene in scenes]\n",
    "print('Average number of sentences in each scene: {}'.format(np.average(sentence_count_scene)))\n",
    "\n",
    "sentences = [sentence for scene in scenes for sentence in scene.split('\\n')]\n",
    "print('Number of lines: {}'.format(len(sentences)))\n",
    "word_count_sentence = [len(sentence.split()) for sentence in sentences]\n",
    "print('Average number of words in each line: {}'.format(np.average(word_count_sentence)))\n",
    "\n",
    "print()\n",
    "print('The sentences {} to {}:'.format(*view_sentence_range))\n",
    "print('\\n'.join(text.split('\\n')[view_sentence_range[0]:view_sentence_range[1]]))"
   ]
  },
  {
   "cell_type": "markdown",
   "metadata": {},
   "source": [
    "## Implement Preprocessing Functions\n",
    "The first thing to do to any dataset is preprocessing.  Implement the following preprocessing functions below:\n",
    "- Lookup Table\n",
    "- Tokenize Punctuation\n",
    "\n",
    "### Lookup Table\n",
    "To create a word embedding, you first need to transform the words to ids.  In this function, create two dictionaries:\n",
    "- Dictionary to go from the words to an id, we'll call `vocab_to_int`\n",
    "- Dictionary to go from the id to word, we'll call `int_to_vocab`\n",
    "\n",
    "Return these dictionaries in the following tuple `(vocab_to_int, int_to_vocab)`"
   ]
  },
  {
   "cell_type": "code",
   "execution_count": 3,
   "metadata": {},
   "outputs": [
    {
     "data": {
      "text/plain": [
       "{1, 2}"
      ]
     },
     "execution_count": 3,
     "metadata": {},
     "output_type": "execute_result"
    }
   ],
   "source": [
    "set([1,1,2])"
   ]
  },
  {
   "cell_type": "code",
   "execution_count": 4,
   "metadata": {},
   "outputs": [
    {
     "name": "stdout",
     "output_type": "stream",
     "text": [
      "Tests Passed\n"
     ]
    }
   ],
   "source": [
    "import numpy as np\n",
    "import problem_unittests as tests\n",
    "\n",
    "def create_lookup_tables(text):\n",
    "    \"\"\"\n",
    "    Create lookup tables for vocabulary\n",
    "    :param text: The text of tv scripts split into words\n",
    "    :return: A tuple of dicts (vocab_to_int, int_to_vocab)\n",
    "    \"\"\"\n",
    "    \n",
    "    unique_words = list(set(text))\n",
    "    ids = range(len(unique_words))\n",
    "    \n",
    "    vocab_to_int = dict(zip(unique_words, ids))\n",
    "    int_to_vocab = dict(zip(ids, unique_words))\n",
    "    \n",
    "    return vocab_to_int, int_to_vocab\n",
    "\n",
    "\n",
    "\"\"\"\n",
    "DON'T MODIFY ANYTHING IN THIS CELL THAT IS BELOW THIS LINE\n",
    "\"\"\"\n",
    "tests.test_create_lookup_tables(create_lookup_tables)"
   ]
  },
  {
   "cell_type": "markdown",
   "metadata": {},
   "source": [
    "### Tokenize Punctuation\n",
    "We'll be splitting the script into a word array using spaces as delimiters.  However, punctuations like periods and exclamation marks make it hard for the neural network to distinguish between the word \"bye\" and \"bye!\".\n",
    "\n",
    "Implement the function `token_lookup` to return a dict that will be used to tokenize symbols like \"!\" into \"||Exclamation_Mark||\".  Create a dictionary for the following symbols where the symbol is the key and value is the token:\n",
    "- Period ( . )\n",
    "- Comma ( , )\n",
    "- Quotation Mark ( \" )\n",
    "- Semicolon ( ; )\n",
    "- Exclamation mark ( ! )\n",
    "- Question mark ( ? )\n",
    "- Left Parentheses ( ( )\n",
    "- Right Parentheses ( ) )\n",
    "- Dash ( -- )\n",
    "- Return ( \\n )\n",
    "\n",
    "This dictionary will be used to token the symbols and add the delimiter (space) around it.  This separates the symbols as it's own word, making it easier for the neural network to predict on the next word. Make sure you don't use a token that could be confused as a word. Instead of using the token \"dash\", try using something like \"||dash||\"."
   ]
  },
  {
   "cell_type": "code",
   "execution_count": 5,
   "metadata": {},
   "outputs": [
    {
     "name": "stdout",
     "output_type": "stream",
     "text": [
      "Tests Passed\n"
     ]
    }
   ],
   "source": [
    "def token_lookup():\n",
    "    \"\"\"\n",
    "    Generate a dict to turn punctuation into a token.\n",
    "    :return: Tokenize dictionary where the key is the punctuation and the value is the token\n",
    "    \"\"\"\n",
    "    token_dict = {\".\":\"||Period||\",\n",
    "                  \",\":\"||Comma||\",\n",
    "                  '\"':\"||Quotation_Mark||\",\n",
    "                  \";\":\"||Semicolon||\",\n",
    "                  \"!\":\"||Exclamation_mark||\",\n",
    "                  \"?\":\"||Question_mark||\",\n",
    "                  \"(\":\"||Left_Parentheses||\",\n",
    "                  \")\":\"||Right_Parentheses||\",\n",
    "                  \"--\":\"||Dash||\",\n",
    "                  \"\\n\":\"||Return||\",\n",
    "                  \n",
    "                 }\n",
    "    return token_dict\n",
    "\n",
    "\"\"\"\n",
    "DON'T MODIFY ANYTHING IN THIS CELL THAT IS BELOW THIS LINE\n",
    "\"\"\"\n",
    "tests.test_tokenize(token_lookup)"
   ]
  },
  {
   "cell_type": "markdown",
   "metadata": {},
   "source": [
    "## Preprocess all the data and save it\n",
    "Running the code cell below will preprocess all the data and save it to file."
   ]
  },
  {
   "cell_type": "code",
   "execution_count": 6,
   "metadata": {
    "collapsed": true
   },
   "outputs": [],
   "source": [
    "\"\"\"\n",
    "DON'T MODIFY ANYTHING IN THIS CELL\n",
    "\"\"\"\n",
    "# Preprocess Training, Validation, and Testing Data\n",
    "helper.preprocess_and_save_data(data_dir, token_lookup, create_lookup_tables)"
   ]
  },
  {
   "cell_type": "markdown",
   "metadata": {},
   "source": [
    "# Check Point\n",
    "This is your first checkpoint. If you ever decide to come back to this notebook or have to restart the notebook, you can start from here. The preprocessed data has been saved to disk."
   ]
  },
  {
   "cell_type": "code",
   "execution_count": 7,
   "metadata": {
    "collapsed": true
   },
   "outputs": [],
   "source": [
    "\"\"\"\n",
    "DON'T MODIFY ANYTHING IN THIS CELL\n",
    "\"\"\"\n",
    "import helper\n",
    "import numpy as np\n",
    "import problem_unittests as tests\n",
    "\n",
    "int_text, vocab_to_int, int_to_vocab, token_dict = helper.load_preprocess()"
   ]
  },
  {
   "cell_type": "markdown",
   "metadata": {},
   "source": [
    "## Build the Neural Network\n",
    "You'll build the components necessary to build a RNN by implementing the following functions below:\n",
    "- get_inputs\n",
    "- get_init_cell\n",
    "- get_embed\n",
    "- build_rnn\n",
    "- build_nn\n",
    "- get_batches\n",
    "\n",
    "### Check the Version of TensorFlow and Access to GPU"
   ]
  },
  {
   "cell_type": "code",
   "execution_count": 8,
   "metadata": {},
   "outputs": [
    {
     "name": "stdout",
     "output_type": "stream",
     "text": [
      "TensorFlow Version: 1.0.1\n"
     ]
    },
    {
     "name": "stderr",
     "output_type": "stream",
     "text": [
      "/home/freeman/anaconda3/envs/machinelearning/lib/python3.5/site-packages/ipykernel_launcher.py:14: UserWarning: No GPU found. Please use a GPU to train your neural network.\n",
      "  \n"
     ]
    }
   ],
   "source": [
    "\"\"\"\n",
    "DON'T MODIFY ANYTHING IN THIS CELL\n",
    "\"\"\"\n",
    "from distutils.version import LooseVersion\n",
    "import warnings\n",
    "import tensorflow as tf\n",
    "\n",
    "# Check TensorFlow Version\n",
    "assert LooseVersion(tf.__version__) >= LooseVersion('1.0'), 'Please use TensorFlow version 1.0 or newer'\n",
    "print('TensorFlow Version: {}'.format(tf.__version__))\n",
    "\n",
    "# Check for a GPU\n",
    "if not tf.test.gpu_device_name():\n",
    "    warnings.warn('No GPU found. Please use a GPU to train your neural network.')\n",
    "else:\n",
    "    print('Default GPU Device: {}'.format(tf.test.gpu_device_name()))"
   ]
  },
  {
   "cell_type": "markdown",
   "metadata": {},
   "source": [
    "### Input\n",
    "Implement the `get_inputs()` function to create TF Placeholders for the Neural Network.  It should create the following placeholders:\n",
    "- Input text placeholder named \"input\" using the [TF Placeholder](https://www.tensorflow.org/api_docs/python/tf/placeholder) `name` parameter.\n",
    "- Targets placeholder\n",
    "- Learning Rate placeholder\n",
    "\n",
    "Return the placeholders in the following tuple `(Input, Targets, LearningRate)`"
   ]
  },
  {
   "cell_type": "code",
   "execution_count": 9,
   "metadata": {},
   "outputs": [
    {
     "name": "stdout",
     "output_type": "stream",
     "text": [
      "Tests Passed\n"
     ]
    }
   ],
   "source": [
    "def get_inputs():\n",
    "    \"\"\"\n",
    "    Create TF Placeholders for input, targets, and learning rate.\n",
    "    :return: Tuple (input, targets, learning rate)\n",
    "    \"\"\"\n",
    "    inputs = tf.placeholder(tf.int32, shape=(None, None), name=\"input\")\n",
    "    targets = tf.placeholder(tf.int32, shape=(None, None), name=\"targets\")\n",
    "    learning_rate = tf.placeholder(tf.float32, name=\"learning_rate\")\n",
    "    return inputs, targets, learning_rate\n",
    "\n",
    "\n",
    "\"\"\"\n",
    "DON'T MODIFY ANYTHING IN THIS CELL THAT IS BELOW THIS LINE\n",
    "\"\"\"\n",
    "tests.test_get_inputs(get_inputs)"
   ]
  },
  {
   "cell_type": "markdown",
   "metadata": {},
   "source": [
    "### Build RNN Cell and Initialize\n",
    "Stack one or more [`BasicLSTMCells`](https://www.tensorflow.org/api_docs/python/tf/contrib/rnn/BasicLSTMCell) in a [`MultiRNNCell`](https://www.tensorflow.org/api_docs/python/tf/contrib/rnn/MultiRNNCell).\n",
    "- The Rnn size should be set using `rnn_size`\n",
    "- Initalize Cell State using the MultiRNNCell's [`zero_state()`](https://www.tensorflow.org/api_docs/python/tf/contrib/rnn/MultiRNNCell#zero_state) function\n",
    "    - Apply the name \"initial_state\" to the initial state using [`tf.identity()`](https://www.tensorflow.org/api_docs/python/tf/identity)\n",
    "\n",
    "Return the cell and initial state in the following tuple `(Cell, InitialState)`"
   ]
  },
  {
   "cell_type": "code",
   "execution_count": 10,
   "metadata": {},
   "outputs": [
    {
     "name": "stdout",
     "output_type": "stream",
     "text": [
      "Tests Passed\n"
     ]
    }
   ],
   "source": [
    "KEEP_PROB = 0.5\n",
    "LSTM_LAYERS_COUNT = 2\n",
    "\n",
    "def get_init_cell(batch_size, rnn_size):\n",
    "    \"\"\"\n",
    "    Create an RNN Cell and initialize it.\n",
    "    :param batch_size: Size of batches\n",
    "    :param rnn_size: Size of RNNs\n",
    "    :return: Tuple (cell, initialize state)\n",
    "    \"\"\"\n",
    "    \n",
    "    # Basic LSTM Cell\n",
    "    lstm = tf.contrib.rnn.BasicLSTMCell(rnn_size)\n",
    "    \n",
    "    # Dropout around the LSTM Cell\n",
    "    drop = tf.contrib.rnn.DropoutWrapper(lstm, output_keep_prob=KEEP_PROB)\n",
    "    \n",
    "    # LSTM layers into the cell\n",
    "    cell = tf.contrib.rnn.MultiRNNCell([drop] * LSTM_LAYERS_COUNT)\n",
    "    \n",
    "    # Initial state\n",
    "    initial_state = tf.identity(cell.zero_state(batch_size, tf.float32), \"initial_state\")\n",
    "    \n",
    "    return cell, initial_state\n",
    "\n",
    "\n",
    "\"\"\"\n",
    "DON'T MODIFY ANYTHING IN THIS CELL THAT IS BELOW THIS LINE\n",
    "\"\"\"\n",
    "tests.test_get_init_cell(get_init_cell)"
   ]
  },
  {
   "cell_type": "markdown",
   "metadata": {},
   "source": [
    "### Word Embedding\n",
    "Apply embedding to `input_data` using TensorFlow.  Return the embedded sequence."
   ]
  },
  {
   "cell_type": "code",
   "execution_count": 11,
   "metadata": {},
   "outputs": [
    {
     "name": "stdout",
     "output_type": "stream",
     "text": [
      "Tests Passed\n"
     ]
    }
   ],
   "source": [
    "def get_embed(input_data, vocab_size, embed_dim):\n",
    "    \"\"\"\n",
    "    Create embedding for <input_data>.\n",
    "    :param input_data: TF placeholder for text input.\n",
    "    :param vocab_size: Number of words in vocabulary.\n",
    "    :param embed_dim: Number of embedding dimensions\n",
    "    :return: Embedded input.\n",
    "    \"\"\"\n",
    "    # embedding matix\n",
    "    embed_matrix = tf.Variable(tf.random_uniform((vocab_size, embed_dim), -1, 1), name=\"embed_matrix\")\n",
    "    \n",
    "    # get the embedding vectors\n",
    "    return tf.nn.embedding_lookup(embed_matrix, input_data)\n",
    "\n",
    "\n",
    "\"\"\"\n",
    "DON'T MODIFY ANYTHING IN THIS CELL THAT IS BELOW THIS LINE\n",
    "\"\"\"\n",
    "tests.test_get_embed(get_embed)"
   ]
  },
  {
   "cell_type": "markdown",
   "metadata": {},
   "source": [
    "### Build RNN\n",
    "You created a RNN Cell in the `get_init_cell()` function.  Time to use the cell to create a RNN.\n",
    "- Build the RNN using the [`tf.nn.dynamic_rnn()`](https://www.tensorflow.org/api_docs/python/tf/nn/dynamic_rnn)\n",
    " - Apply the name \"final_state\" to the final state using [`tf.identity()`](https://www.tensorflow.org/api_docs/python/tf/identity)\n",
    "\n",
    "Return the outputs and final_state state in the following tuple `(Outputs, FinalState)` "
   ]
  },
  {
   "cell_type": "code",
   "execution_count": 12,
   "metadata": {},
   "outputs": [
    {
     "name": "stdout",
     "output_type": "stream",
     "text": [
      "Tests Passed\n"
     ]
    }
   ],
   "source": [
    "def build_rnn(cell, inputs):\n",
    "    \"\"\"\n",
    "    Create a RNN using a RNN Cell\n",
    "    :param cell: RNN Cell\n",
    "    :param inputs: Input text data\n",
    "    :return: Tuple (Outputs, Final State)\n",
    "    \"\"\"\n",
    "    output, final_state = tf.nn.dynamic_rnn(cell, inputs, dtype=tf.float32)\n",
    "    final_state = tf.identity(final_state, \"final_state\")\n",
    "    \n",
    "    return output, final_state\n",
    "\n",
    "\n",
    "\"\"\"\n",
    "DON'T MODIFY ANYTHING IN THIS CELL THAT IS BELOW THIS LINE\n",
    "\"\"\"\n",
    "tests.test_build_rnn(build_rnn)"
   ]
  },
  {
   "cell_type": "markdown",
   "metadata": {},
   "source": [
    "### Build the Neural Network\n",
    "Apply the functions you implemented above to:\n",
    "- Apply embedding to `input_data` using your `get_embed(input_data, vocab_size, embed_dim)` function.\n",
    "- Build RNN using `cell` and your `build_rnn(cell, inputs)` function.\n",
    "- Apply a fully connected layer with a linear activation and `vocab_size` as the number of outputs.\n",
    "\n",
    "Return the logits and final state in the following tuple (Logits, FinalState) "
   ]
  },
  {
   "cell_type": "code",
   "execution_count": 13,
   "metadata": {},
   "outputs": [
    {
     "name": "stdout",
     "output_type": "stream",
     "text": [
      "Tests Passed\n"
     ]
    }
   ],
   "source": [
    "def build_nn(cell, rnn_size, input_data, vocab_size, embed_dim):\n",
    "    \"\"\"\n",
    "    Build part of the neural network\n",
    "    :param cell: RNN cell\n",
    "    :param rnn_size: Size of rnns\n",
    "    :param input_data: Input data\n",
    "    :param vocab_size: Vocabulary size\n",
    "    :param embed_dim: Number of embedding dimensions\n",
    "    :return: Tuple (Logits, FinalState)\n",
    "    \"\"\"\n",
    "    \n",
    "    # get the embedding matrix with size (vocab_size x rnn_size)\n",
    "    input_data = get_embed(input_data, vocab_size, embed_dim)\n",
    "\n",
    "    # build RNN passing the cell and the embedding table\n",
    "    output, final_state = build_rnn(cell, input_data)\n",
    "    \n",
    "    logits = tf.contrib.layers.fully_connected(inputs=output, num_outputs=vocab_size, activation_fn=None)\n",
    "    \n",
    "    return logits, final_state\n",
    "\n",
    "\n",
    "\"\"\"\n",
    "DON'T MODIFY ANYTHING IN THIS CELL THAT IS BELOW THIS LINE\n",
    "\"\"\"\n",
    "tests.test_build_nn(build_nn)"
   ]
  },
  {
   "cell_type": "markdown",
   "metadata": {},
   "source": [
    "### Batches\n",
    "Implement `get_batches` to create batches of input and targets using `int_text`.  The batches should be a Numpy array with the shape `(number of batches, 2, batch size, sequence length)`. Each batch contains two elements:\n",
    "- The first element is a single batch of **input** with the shape `[batch size, sequence length]`\n",
    "- The second element is a single batch of **targets** with the shape `[batch size, sequence length]`\n",
    "\n",
    "If you can't fill the last batch with enough data, drop the last batch.\n",
    "\n",
    "For exmple, `get_batches([1, 2, 3, 4, 5, 6, 7, 8, 9, 10, 11, 12, 13, 14, 15], 2, 3)` would return a Numpy array of the following:\n",
    "```\n",
    "[\n",
    "  # First Batch\n",
    "  [\n",
    "    # Batch of Input\n",
    "    [[ 1  2  3], [ 7  8  9]],\n",
    "    # Batch of targets\n",
    "    [[ 2  3  4], [ 8  9 10]]\n",
    "  ],\n",
    " \n",
    "  # Second Batch\n",
    "  [\n",
    "    # Batch of Input\n",
    "    [[ 4  5  6], [10 11 12]],\n",
    "    # Batch of targets\n",
    "    [[ 5  6  7], [11 12 13]]\n",
    "  ]\n",
    "]\n",
    "```"
   ]
  },
  {
   "cell_type": "code",
   "execution_count": 14,
   "metadata": {},
   "outputs": [
    {
     "name": "stdout",
     "output_type": "stream",
     "text": [
      "Tests Passed\n"
     ]
    }
   ],
   "source": [
    "def get_batches(int_text, batch_size, seq_length):\n",
    "    \"\"\"\n",
    "    Return batches of input and target\n",
    "    :param int_text: Text with the words replaced by their ids\n",
    "    :param batch_size: The size of batch\n",
    "    :param seq_length: The length of sequence\n",
    "    :return: Batches as a Numpy array\n",
    "    \"\"\"\n",
    "    size = len(int_text)\n",
    "    batch_length = batch_size * seq_length\n",
    "    \n",
    "    n_batches = int( size / batch_length )\n",
    "\n",
    "    # Drop the last few characters to make only full batches\n",
    "    inputs = np.array(int_text[: n_batches * batch_length])\n",
    "    targets = np.array(int_text[1: n_batches * batch_length + 1])\n",
    "\n",
    "    input_batches = np.split(inputs.reshape(batch_size, -1), n_batches, 1)\n",
    "    target_batches = np.split(targets.reshape(batch_size, -1), n_batches, 1)\n",
    "\n",
    "    return np.array(list(zip(input_batches, target_batches)))\n",
    "\n",
    "\"\"\"\n",
    "DON'T MODIFY ANYTHING IN THIS CELL THAT IS BELOW THIS LINE\n",
    "\"\"\"\n",
    "tests.test_get_batches(get_batches)"
   ]
  },
  {
   "cell_type": "markdown",
   "metadata": {},
   "source": [
    "## Neural Network Training\n",
    "### Hyperparameters\n",
    "Tune the following parameters:\n",
    "\n",
    "- Set `num_epochs` to the number of epochs.\n",
    "- Set `batch_size` to the batch size.\n",
    "- Set `rnn_size` to the size of the RNNs.\n",
    "- Set `embed_dim` to the size of the embedding.\n",
    "- Set `seq_length` to the length of sequence.\n",
    "- Set `learning_rate` to the learning rate.\n",
    "- Set `show_every_n_batches` to the number of batches the neural network should print progress."
   ]
  },
  {
   "cell_type": "code",
   "execution_count": 15,
   "metadata": {
    "collapsed": true
   },
   "outputs": [],
   "source": [
    "# Number of Epochs\n",
    "num_epochs = 1000\n",
    "# Batch Size\n",
    "batch_size = 512\n",
    "# RNN Size\n",
    "rnn_size = 512\n",
    "# Embedding Dimension Size\n",
    "embed_dim = 200\n",
    "# Sequence Length\n",
    "seq_length = 16\n",
    "# Learning Rate\n",
    "learning_rate = 0.001\n",
    "# Show stats for every n number of batches\n",
    "show_every_n_batches = 26\n",
    "\n",
    "\"\"\"\n",
    "DON'T MODIFY ANYTHING IN THIS CELL THAT IS BELOW THIS LINE\n",
    "\"\"\"\n",
    "save_dir = './save'"
   ]
  },
  {
   "cell_type": "markdown",
   "metadata": {},
   "source": [
    "### Build the Graph\n",
    "Build the graph using the neural network you implemented."
   ]
  },
  {
   "cell_type": "code",
   "execution_count": null,
   "metadata": {
    "collapsed": true
   },
   "outputs": [],
   "source": [
    "\"\"\"\n",
    "DON'T MODIFY ANYTHING IN THIS CELL\n",
    "\"\"\"\n",
    "from tensorflow.contrib import seq2seq\n",
    "\n",
    "train_graph = tf.Graph()\n",
    "with train_graph.as_default():\n",
    "    vocab_size = len(int_to_vocab)\n",
    "    input_text, targets, lr = get_inputs()\n",
    "    input_data_shape = tf.shape(input_text)\n",
    "    cell, initial_state = get_init_cell(input_data_shape[0], rnn_size)\n",
    "    logits, final_state = build_nn(cell, rnn_size, input_text, vocab_size, embed_dim)\n",
    "\n",
    "    # Probabilities for generating words\n",
    "    probs = tf.nn.softmax(logits, name='probs')\n",
    "\n",
    "    # Loss function\n",
    "    cost = seq2seq.sequence_loss(\n",
    "        logits,\n",
    "        targets,\n",
    "        tf.ones([input_data_shape[0], input_data_shape[1]]))\n",
    "\n",
    "    # Optimizer\n",
    "    optimizer = tf.train.AdamOptimizer(lr)\n",
    "\n",
    "    # Gradient Clipping\n",
    "    gradients = optimizer.compute_gradients(cost)\n",
    "    capped_gradients = [(tf.clip_by_value(grad, -1., 1.), var) for grad, var in gradients]\n",
    "    train_op = optimizer.apply_gradients(capped_gradients)"
   ]
  },
  {
   "cell_type": "markdown",
   "metadata": {},
   "source": [
    "## Train\n",
    "Train the neural network on the preprocessed data.  If you have a hard time getting a good loss, check the [forms](https://discussions.udacity.com/) to see if anyone is having the same problem."
   ]
  },
  {
   "cell_type": "code",
   "execution_count": null,
   "metadata": {},
   "outputs": [
    {
     "name": "stdout",
     "output_type": "stream",
     "text": [
      "Epoch   0 Batch    0/8   train_loss = 8.822\n",
      "Epoch   3 Batch    2/8   train_loss = 6.218\n",
      "Epoch   6 Batch    4/8   train_loss = 6.118\n",
      "Epoch   9 Batch    6/8   train_loss = 6.063\n",
      "Epoch  13 Batch    0/8   train_loss = 5.953\n",
      "Epoch  16 Batch    2/8   train_loss = 5.859\n",
      "Epoch  19 Batch    4/8   train_loss = 5.789\n",
      "Epoch  22 Batch    6/8   train_loss = 5.705\n",
      "Epoch  26 Batch    0/8   train_loss = 5.579\n",
      "Epoch  29 Batch    2/8   train_loss = 5.540\n",
      "Epoch  32 Batch    4/8   train_loss = 5.478\n",
      "Epoch  35 Batch    6/8   train_loss = 5.383\n",
      "Epoch  39 Batch    0/8   train_loss = 5.246\n",
      "Epoch  42 Batch    2/8   train_loss = 5.213\n",
      "Epoch  45 Batch    4/8   train_loss = 5.172\n",
      "Epoch  48 Batch    6/8   train_loss = 5.096\n",
      "Epoch  52 Batch    0/8   train_loss = 4.975\n",
      "Epoch  55 Batch    2/8   train_loss = 4.955\n",
      "Epoch  58 Batch    4/8   train_loss = 4.934\n",
      "Epoch  61 Batch    6/8   train_loss = 4.868\n",
      "Epoch  65 Batch    0/8   train_loss = 4.761\n",
      "Epoch  68 Batch    2/8   train_loss = 4.738\n",
      "Epoch  71 Batch    4/8   train_loss = 4.735\n",
      "Epoch  74 Batch    6/8   train_loss = 4.661\n",
      "Epoch  78 Batch    0/8   train_loss = 4.575\n",
      "Epoch  81 Batch    2/8   train_loss = 4.565\n",
      "Epoch  84 Batch    4/8   train_loss = 4.557\n",
      "Epoch  87 Batch    6/8   train_loss = 4.501\n",
      "Epoch  91 Batch    0/8   train_loss = 4.422\n",
      "Epoch  94 Batch    2/8   train_loss = 4.397\n",
      "Epoch  97 Batch    4/8   train_loss = 4.381\n",
      "Epoch 100 Batch    6/8   train_loss = 4.325\n",
      "Epoch 104 Batch    0/8   train_loss = 4.248\n",
      "Epoch 107 Batch    2/8   train_loss = 4.248\n",
      "Epoch 110 Batch    4/8   train_loss = 4.216\n",
      "Epoch 113 Batch    6/8   train_loss = 4.171\n",
      "Epoch 117 Batch    0/8   train_loss = 4.089\n",
      "Epoch 120 Batch    2/8   train_loss = 4.116\n",
      "Epoch 123 Batch    4/8   train_loss = 4.167\n",
      "Epoch 126 Batch    6/8   train_loss = 4.070\n",
      "Epoch 130 Batch    0/8   train_loss = 3.997\n",
      "Epoch 133 Batch    2/8   train_loss = 3.935\n",
      "Epoch 136 Batch    4/8   train_loss = 3.937\n",
      "Epoch 139 Batch    6/8   train_loss = 3.871\n",
      "Epoch 143 Batch    0/8   train_loss = 3.803\n",
      "Epoch 146 Batch    2/8   train_loss = 3.792\n",
      "Epoch 149 Batch    4/8   train_loss = 3.771\n",
      "Epoch 152 Batch    6/8   train_loss = 3.718\n",
      "Epoch 156 Batch    0/8   train_loss = 3.625\n",
      "Epoch 159 Batch    2/8   train_loss = 3.654\n",
      "Epoch 162 Batch    4/8   train_loss = 3.623\n",
      "Epoch 165 Batch    6/8   train_loss = 3.595\n",
      "Epoch 169 Batch    0/8   train_loss = 3.581\n",
      "Epoch 172 Batch    2/8   train_loss = 3.511\n",
      "Epoch 175 Batch    4/8   train_loss = 3.459\n",
      "Epoch 178 Batch    6/8   train_loss = 3.409\n",
      "Epoch 182 Batch    0/8   train_loss = 3.335\n",
      "Epoch 185 Batch    2/8   train_loss = 3.325\n",
      "Epoch 188 Batch    4/8   train_loss = 3.315\n",
      "Epoch 191 Batch    6/8   train_loss = 3.290\n",
      "Epoch 195 Batch    0/8   train_loss = 3.178\n",
      "Epoch 198 Batch    2/8   train_loss = 3.138\n",
      "Epoch 201 Batch    4/8   train_loss = 3.130\n",
      "Epoch 204 Batch    6/8   train_loss = 3.098\n",
      "Epoch 208 Batch    0/8   train_loss = 3.043\n",
      "Epoch 211 Batch    2/8   train_loss = 3.003\n",
      "Epoch 214 Batch    4/8   train_loss = 2.980\n",
      "Epoch 217 Batch    6/8   train_loss = 2.951\n",
      "Epoch 221 Batch    0/8   train_loss = 2.871\n",
      "Epoch 224 Batch    2/8   train_loss = 2.829\n",
      "Epoch 227 Batch    4/8   train_loss = 2.798\n",
      "Epoch 230 Batch    6/8   train_loss = 2.763\n",
      "Epoch 234 Batch    0/8   train_loss = 2.775\n",
      "Epoch 237 Batch    2/8   train_loss = 2.726\n",
      "Epoch 240 Batch    4/8   train_loss = 2.667\n",
      "Epoch 243 Batch    6/8   train_loss = 2.643\n",
      "Epoch 247 Batch    0/8   train_loss = 2.610\n",
      "Epoch 250 Batch    2/8   train_loss = 2.585\n",
      "Epoch 253 Batch    4/8   train_loss = 2.542\n",
      "Epoch 256 Batch    6/8   train_loss = 2.482\n",
      "Epoch 260 Batch    0/8   train_loss = 2.451\n",
      "Epoch 263 Batch    2/8   train_loss = 2.441\n",
      "Epoch 266 Batch    4/8   train_loss = 2.407\n",
      "Epoch 269 Batch    6/8   train_loss = 2.391\n",
      "Epoch 273 Batch    0/8   train_loss = 2.350\n",
      "Epoch 276 Batch    2/8   train_loss = 2.317\n",
      "Epoch 279 Batch    4/8   train_loss = 2.295\n",
      "Epoch 282 Batch    6/8   train_loss = 2.257\n",
      "Epoch 286 Batch    0/8   train_loss = 2.222\n",
      "Epoch 289 Batch    2/8   train_loss = 2.220\n",
      "Epoch 292 Batch    4/8   train_loss = 2.164\n",
      "Epoch 295 Batch    6/8   train_loss = 2.159\n",
      "Epoch 299 Batch    0/8   train_loss = 2.100\n",
      "Epoch 302 Batch    2/8   train_loss = 2.082\n",
      "Epoch 305 Batch    4/8   train_loss = 2.038\n",
      "Epoch 308 Batch    6/8   train_loss = 2.062\n",
      "Epoch 312 Batch    0/8   train_loss = 2.058\n",
      "Epoch 315 Batch    2/8   train_loss = 1.998\n",
      "Epoch 318 Batch    4/8   train_loss = 1.955\n",
      "Epoch 321 Batch    6/8   train_loss = 1.987\n",
      "Epoch 325 Batch    0/8   train_loss = 1.904\n",
      "Epoch 328 Batch    2/8   train_loss = 1.874\n",
      "Epoch 331 Batch    4/8   train_loss = 1.830\n",
      "Epoch 334 Batch    6/8   train_loss = 1.880\n",
      "Epoch 338 Batch    0/8   train_loss = 1.857\n",
      "Epoch 341 Batch    2/8   train_loss = 1.813\n",
      "Epoch 344 Batch    4/8   train_loss = 1.779\n",
      "Epoch 347 Batch    6/8   train_loss = 1.753\n",
      "Epoch 351 Batch    0/8   train_loss = 1.705\n",
      "Epoch 354 Batch    2/8   train_loss = 1.712\n",
      "Epoch 357 Batch    4/8   train_loss = 1.690\n",
      "Epoch 360 Batch    6/8   train_loss = 1.686\n",
      "Epoch 364 Batch    0/8   train_loss = 1.650\n",
      "Epoch 367 Batch    2/8   train_loss = 1.623\n",
      "Epoch 370 Batch    4/8   train_loss = 1.591\n",
      "Epoch 373 Batch    6/8   train_loss = 1.624\n",
      "Epoch 377 Batch    0/8   train_loss = 1.587\n",
      "Epoch 380 Batch    2/8   train_loss = 1.568\n",
      "Epoch 383 Batch    4/8   train_loss = 1.558\n",
      "Epoch 386 Batch    6/8   train_loss = 1.528\n",
      "Epoch 390 Batch    0/8   train_loss = 1.492\n",
      "Epoch 393 Batch    2/8   train_loss = 1.469\n",
      "Epoch 396 Batch    4/8   train_loss = 1.435\n",
      "Epoch 399 Batch    6/8   train_loss = 1.440\n",
      "Epoch 403 Batch    0/8   train_loss = 1.406\n",
      "Epoch 406 Batch    2/8   train_loss = 1.382\n",
      "Epoch 409 Batch    4/8   train_loss = 1.378\n",
      "Epoch 412 Batch    6/8   train_loss = 1.383\n",
      "Epoch 416 Batch    0/8   train_loss = 1.343\n",
      "Epoch 419 Batch    2/8   train_loss = 1.329\n",
      "Epoch 422 Batch    4/8   train_loss = 1.304\n",
      "Epoch 425 Batch    6/8   train_loss = 1.330\n",
      "Epoch 429 Batch    0/8   train_loss = 1.268\n",
      "Epoch 432 Batch    2/8   train_loss = 1.286\n",
      "Epoch 435 Batch    4/8   train_loss = 1.221\n",
      "Epoch 438 Batch    6/8   train_loss = 1.255\n",
      "Epoch 442 Batch    0/8   train_loss = 1.222\n",
      "Epoch 445 Batch    2/8   train_loss = 1.198\n",
      "Epoch 448 Batch    4/8   train_loss = 1.182\n",
      "Epoch 451 Batch    6/8   train_loss = 1.187\n",
      "Epoch 455 Batch    0/8   train_loss = 1.170\n",
      "Epoch 458 Batch    2/8   train_loss = 1.146\n",
      "Epoch 461 Batch    4/8   train_loss = 1.109\n",
      "Epoch 464 Batch    6/8   train_loss = 1.145\n",
      "Epoch 468 Batch    0/8   train_loss = 1.104\n",
      "Epoch 471 Batch    2/8   train_loss = 1.063\n",
      "Epoch 474 Batch    4/8   train_loss = 1.053\n",
      "Epoch 477 Batch    6/8   train_loss = 1.072\n",
      "Epoch 481 Batch    0/8   train_loss = 1.070\n",
      "Epoch 484 Batch    2/8   train_loss = 1.061\n",
      "Epoch 487 Batch    4/8   train_loss = 1.019\n",
      "Epoch 490 Batch    6/8   train_loss = 1.026\n",
      "Epoch 494 Batch    0/8   train_loss = 1.003\n",
      "Epoch 497 Batch    2/8   train_loss = 0.971\n",
      "Epoch 500 Batch    4/8   train_loss = 0.970\n",
      "Epoch 503 Batch    6/8   train_loss = 1.002\n",
      "Epoch 507 Batch    0/8   train_loss = 0.942\n",
      "Epoch 510 Batch    2/8   train_loss = 0.935\n",
      "Epoch 513 Batch    4/8   train_loss = 0.958\n",
      "Epoch 516 Batch    6/8   train_loss = 0.954\n",
      "Epoch 520 Batch    0/8   train_loss = 0.900\n",
      "Epoch 523 Batch    2/8   train_loss = 0.883\n",
      "Epoch 526 Batch    4/8   train_loss = 0.875\n",
      "Epoch 529 Batch    6/8   train_loss = 0.897\n",
      "Epoch 533 Batch    0/8   train_loss = 0.863\n",
      "Epoch 536 Batch    2/8   train_loss = 0.838\n",
      "Epoch 539 Batch    4/8   train_loss = 0.843\n",
      "Epoch 542 Batch    6/8   train_loss = 0.850\n",
      "Epoch 546 Batch    0/8   train_loss = 0.865\n",
      "Epoch 549 Batch    2/8   train_loss = 0.827\n",
      "Epoch 552 Batch    4/8   train_loss = 0.822\n",
      "Epoch 555 Batch    6/8   train_loss = 0.818\n",
      "Epoch 559 Batch    0/8   train_loss = 0.804\n",
      "Epoch 562 Batch    2/8   train_loss = 0.803\n",
      "Epoch 565 Batch    4/8   train_loss = 0.801\n",
      "Epoch 568 Batch    6/8   train_loss = 0.784\n",
      "Epoch 572 Batch    0/8   train_loss = 0.779\n",
      "Epoch 575 Batch    2/8   train_loss = 0.777\n",
      "Epoch 578 Batch    4/8   train_loss = 0.737\n",
      "Epoch 581 Batch    6/8   train_loss = 0.751\n",
      "Epoch 585 Batch    0/8   train_loss = 0.739\n",
      "Epoch 588 Batch    2/8   train_loss = 0.720\n",
      "Epoch 591 Batch    4/8   train_loss = 0.706\n",
      "Epoch 594 Batch    6/8   train_loss = 0.729\n",
      "Epoch 598 Batch    0/8   train_loss = 0.716\n",
      "Epoch 601 Batch    2/8   train_loss = 0.702\n",
      "Epoch 604 Batch    4/8   train_loss = 0.694\n"
     ]
    },
    {
     "name": "stdout",
     "output_type": "stream",
     "text": [
      "Epoch 607 Batch    6/8   train_loss = 0.706\n",
      "Epoch 611 Batch    0/8   train_loss = 0.693\n",
      "Epoch 614 Batch    2/8   train_loss = 0.676\n",
      "Epoch 617 Batch    4/8   train_loss = 0.674\n",
      "Epoch 620 Batch    6/8   train_loss = 0.688\n",
      "Epoch 624 Batch    0/8   train_loss = 0.656\n",
      "Epoch 627 Batch    2/8   train_loss = 0.645\n",
      "Epoch 630 Batch    4/8   train_loss = 0.632\n",
      "Epoch 633 Batch    6/8   train_loss = 0.641\n",
      "Epoch 637 Batch    0/8   train_loss = 0.634\n",
      "Epoch 640 Batch    2/8   train_loss = 0.638\n",
      "Epoch 643 Batch    4/8   train_loss = 0.613\n",
      "Epoch 646 Batch    6/8   train_loss = 0.635\n",
      "Epoch 650 Batch    0/8   train_loss = 0.604\n",
      "Epoch 653 Batch    2/8   train_loss = 0.594\n",
      "Epoch 656 Batch    4/8   train_loss = 0.607\n",
      "Epoch 659 Batch    6/8   train_loss = 0.609\n",
      "Epoch 663 Batch    0/8   train_loss = 0.596\n",
      "Epoch 666 Batch    2/8   train_loss = 0.601\n",
      "Epoch 669 Batch    4/8   train_loss = 0.577\n",
      "Epoch 672 Batch    6/8   train_loss = 0.592\n",
      "Epoch 676 Batch    0/8   train_loss = 0.577\n",
      "Epoch 679 Batch    2/8   train_loss = 0.569\n",
      "Epoch 682 Batch    4/8   train_loss = 0.580\n",
      "Epoch 685 Batch    6/8   train_loss = 0.583\n",
      "Epoch 689 Batch    0/8   train_loss = 0.562\n",
      "Epoch 692 Batch    2/8   train_loss = 0.556\n",
      "Epoch 695 Batch    4/8   train_loss = 0.565\n",
      "Epoch 698 Batch    6/8   train_loss = 0.533\n",
      "Epoch 702 Batch    0/8   train_loss = 0.540\n",
      "Epoch 705 Batch    2/8   train_loss = 0.539\n",
      "Epoch 708 Batch    4/8   train_loss = 0.531\n",
      "Epoch 711 Batch    6/8   train_loss = 0.547\n",
      "Epoch 715 Batch    0/8   train_loss = 0.532\n",
      "Epoch 718 Batch    2/8   train_loss = 0.520\n",
      "Epoch 721 Batch    4/8   train_loss = 0.523\n",
      "Epoch 724 Batch    6/8   train_loss = 0.518\n",
      "Epoch 728 Batch    0/8   train_loss = 0.515\n",
      "Epoch 731 Batch    2/8   train_loss = 0.512\n",
      "Epoch 734 Batch    4/8   train_loss = 0.492\n",
      "Epoch 737 Batch    6/8   train_loss = 0.499\n",
      "Epoch 741 Batch    0/8   train_loss = 0.485\n",
      "Epoch 744 Batch    2/8   train_loss = 0.489\n",
      "Epoch 747 Batch    4/8   train_loss = 0.484\n",
      "Epoch 750 Batch    6/8   train_loss = 0.483\n",
      "Epoch 754 Batch    0/8   train_loss = 0.491\n",
      "Epoch 757 Batch    2/8   train_loss = 0.490\n",
      "Epoch 760 Batch    4/8   train_loss = 0.486\n",
      "Epoch 763 Batch    6/8   train_loss = 0.488\n",
      "Epoch 767 Batch    0/8   train_loss = 0.474\n",
      "Epoch 770 Batch    2/8   train_loss = 0.474\n",
      "Epoch 773 Batch    4/8   train_loss = 0.463\n",
      "Epoch 776 Batch    6/8   train_loss = 0.470\n",
      "Epoch 780 Batch    0/8   train_loss = 0.458\n",
      "Epoch 783 Batch    2/8   train_loss = 0.450\n",
      "Epoch 786 Batch    4/8   train_loss = 0.461\n",
      "Epoch 789 Batch    6/8   train_loss = 0.465\n",
      "Epoch 793 Batch    0/8   train_loss = 0.459\n",
      "Epoch 796 Batch    2/8   train_loss = 0.455\n",
      "Epoch 799 Batch    4/8   train_loss = 0.453\n",
      "Epoch 802 Batch    6/8   train_loss = 0.444\n",
      "Epoch 806 Batch    0/8   train_loss = 0.452\n",
      "Epoch 809 Batch    2/8   train_loss = 0.441\n",
      "Epoch 812 Batch    4/8   train_loss = 0.433\n",
      "Epoch 815 Batch    6/8   train_loss = 0.450\n",
      "Epoch 819 Batch    0/8   train_loss = 0.443\n",
      "Epoch 822 Batch    2/8   train_loss = 0.452\n",
      "Epoch 825 Batch    4/8   train_loss = 0.424\n",
      "Epoch 828 Batch    6/8   train_loss = 0.425\n",
      "Epoch 832 Batch    0/8   train_loss = 0.418\n",
      "Epoch 835 Batch    2/8   train_loss = 0.419\n",
      "Epoch 838 Batch    4/8   train_loss = 0.415\n",
      "Epoch 841 Batch    6/8   train_loss = 0.426\n",
      "Epoch 845 Batch    0/8   train_loss = 0.422\n",
      "Epoch 848 Batch    2/8   train_loss = 0.419\n",
      "Epoch 851 Batch    4/8   train_loss = 0.398\n",
      "Epoch 854 Batch    6/8   train_loss = 0.412\n",
      "Epoch 858 Batch    0/8   train_loss = 0.427\n",
      "Epoch 861 Batch    2/8   train_loss = 0.418\n",
      "Epoch 864 Batch    4/8   train_loss = 0.412\n",
      "Epoch 867 Batch    6/8   train_loss = 0.412\n",
      "Epoch 871 Batch    0/8   train_loss = 0.402\n",
      "Epoch 874 Batch    2/8   train_loss = 0.399\n",
      "Epoch 877 Batch    4/8   train_loss = 0.392\n",
      "Epoch 880 Batch    6/8   train_loss = 0.416\n",
      "Epoch 884 Batch    0/8   train_loss = 0.398\n",
      "Epoch 887 Batch    2/8   train_loss = 0.411\n",
      "Epoch 890 Batch    4/8   train_loss = 0.371\n",
      "Epoch 893 Batch    6/8   train_loss = 0.397\n",
      "Epoch 897 Batch    0/8   train_loss = 0.400\n",
      "Epoch 900 Batch    2/8   train_loss = 0.386\n",
      "Epoch 903 Batch    4/8   train_loss = 0.382\n",
      "Epoch 906 Batch    6/8   train_loss = 0.393\n",
      "Epoch 910 Batch    0/8   train_loss = 0.392\n",
      "Epoch 913 Batch    2/8   train_loss = 0.372\n",
      "Epoch 916 Batch    4/8   train_loss = 0.377\n",
      "Epoch 919 Batch    6/8   train_loss = 0.392\n",
      "Epoch 923 Batch    0/8   train_loss = 0.378\n",
      "Epoch 926 Batch    2/8   train_loss = 0.384\n",
      "Epoch 929 Batch    4/8   train_loss = 0.369\n",
      "Epoch 932 Batch    6/8   train_loss = 0.375\n",
      "Epoch 936 Batch    0/8   train_loss = 0.379\n",
      "Epoch 939 Batch    2/8   train_loss = 0.362\n",
      "Epoch 942 Batch    4/8   train_loss = 0.376\n",
      "Epoch 945 Batch    6/8   train_loss = 0.366\n",
      "Epoch 949 Batch    0/8   train_loss = 0.376\n",
      "Epoch 952 Batch    2/8   train_loss = 0.368\n",
      "Epoch 955 Batch    4/8   train_loss = 0.362\n",
      "Epoch 958 Batch    6/8   train_loss = 0.363\n",
      "Epoch 962 Batch    0/8   train_loss = 0.356\n",
      "Epoch 965 Batch    2/8   train_loss = 0.360\n",
      "Epoch 968 Batch    4/8   train_loss = 0.356\n",
      "Epoch 971 Batch    6/8   train_loss = 0.362\n",
      "Epoch 975 Batch    0/8   train_loss = 0.362\n"
     ]
    }
   ],
   "source": [
    "\"\"\"\n",
    "DON'T MODIFY ANYTHING IN THIS CELL\n",
    "\"\"\"\n",
    "batches = get_batches(int_text, batch_size, seq_length)\n",
    "\n",
    "with tf.Session(graph=train_graph) as sess:\n",
    "    sess.run(tf.global_variables_initializer())\n",
    "\n",
    "    for epoch_i in range(num_epochs):\n",
    "        state = sess.run(initial_state, {input_text: batches[0][0]})\n",
    "\n",
    "        for batch_i, (x, y) in enumerate(batches):\n",
    "            feed = {\n",
    "                input_text: x,\n",
    "                targets: y,\n",
    "                initial_state: state,\n",
    "                lr: learning_rate}\n",
    "            train_loss, state, _ = sess.run([cost, final_state, train_op], feed)\n",
    "\n",
    "            # Show every <show_every_n_batches> batches\n",
    "            if (epoch_i * len(batches) + batch_i) % show_every_n_batches == 0:\n",
    "                print('Epoch {:>3} Batch {:>4}/{}   train_loss = {:.3f}'.format(\n",
    "                    epoch_i,\n",
    "                    batch_i,\n",
    "                    len(batches),\n",
    "                    train_loss))\n",
    "\n",
    "    # Save Model\n",
    "    saver = tf.train.Saver()\n",
    "    saver.save(sess, save_dir)\n",
    "    print('Model Trained and Saved')"
   ]
  },
  {
   "cell_type": "markdown",
   "metadata": {},
   "source": [
    "## Save Parameters\n",
    "Save `seq_length` and `save_dir` for generating a new TV script."
   ]
  },
  {
   "cell_type": "code",
   "execution_count": null,
   "metadata": {
    "collapsed": true
   },
   "outputs": [],
   "source": [
    "\"\"\"\n",
    "DON'T MODIFY ANYTHING IN THIS CELL\n",
    "\"\"\"\n",
    "# Save parameters for checkpoint\n",
    "helper.save_params((seq_length, save_dir))"
   ]
  },
  {
   "cell_type": "markdown",
   "metadata": {},
   "source": [
    "# Checkpoint"
   ]
  },
  {
   "cell_type": "code",
   "execution_count": null,
   "metadata": {
    "collapsed": true
   },
   "outputs": [],
   "source": [
    "\"\"\"\n",
    "DON'T MODIFY ANYTHING IN THIS CELL\n",
    "\"\"\"\n",
    "import tensorflow as tf\n",
    "import numpy as np\n",
    "import helper\n",
    "import problem_unittests as tests\n",
    "\n",
    "_, vocab_to_int, int_to_vocab, token_dict = helper.load_preprocess()\n",
    "seq_length, load_dir = helper.load_params()"
   ]
  },
  {
   "cell_type": "markdown",
   "metadata": {},
   "source": [
    "## Implement Generate Functions\n",
    "### Get Tensors\n",
    "Get tensors from `loaded_graph` using the function [`get_tensor_by_name()`](https://www.tensorflow.org/api_docs/python/tf/Graph#get_tensor_by_name).  Get the tensors using the following names:\n",
    "- \"input:0\"\n",
    "- \"initial_state:0\"\n",
    "- \"final_state:0\"\n",
    "- \"probs:0\"\n",
    "\n",
    "Return the tensors in the following tuple `(InputTensor, InitialStateTensor, FinalStateTensor, ProbsTensor)` "
   ]
  },
  {
   "cell_type": "code",
   "execution_count": null,
   "metadata": {},
   "outputs": [],
   "source": [
    "def get_tensors(loaded_graph):\n",
    "    \"\"\"\n",
    "    Get input, initial state, final state, and probabilities tensor from <loaded_graph>\n",
    "    :param loaded_graph: TensorFlow graph loaded from file\n",
    "    :return: Tuple (InputTensor, InitialStateTensor, FinalStateTensor, ProbsTensor)\n",
    "    \"\"\"\n",
    "    return (loaded_graph.get_tensor_by_name(\"input:0\"), \n",
    "            loaded_graph.get_tensor_by_name(\"initial_state:0\"), \n",
    "            loaded_graph.get_tensor_by_name(\"final_state:0\"), \n",
    "            loaded_graph.get_tensor_by_name(\"probs:0\"))\n",
    "\n",
    "\n",
    "\"\"\"\n",
    "DON'T MODIFY ANYTHING IN THIS CELL THAT IS BELOW THIS LINE\n",
    "\"\"\"\n",
    "tests.test_get_tensors(get_tensors)"
   ]
  },
  {
   "cell_type": "markdown",
   "metadata": {},
   "source": [
    "### Choose Word\n",
    "Implement the `pick_word()` function to select the next word using `probabilities`."
   ]
  },
  {
   "cell_type": "code",
   "execution_count": 23,
   "metadata": {},
   "outputs": [
    {
     "name": "stdout",
     "output_type": "stream",
     "text": [
      "Tests Passed\n"
     ]
    }
   ],
   "source": [
    "def pick_word(probabilities, int_to_vocab):\n",
    "    \"\"\"\n",
    "    Pick the next word in the generated text\n",
    "    :param probabilities: Probabilites of the next word\n",
    "    :param int_to_vocab: Dictionary of word ids as the keys and words as the values\n",
    "    :return: String of the predicted word\n",
    "    \"\"\"\n",
    "    return int_to_vocab[np.argmax(probabilities)]\n",
    "\n",
    "\n",
    "\"\"\"\n",
    "DON'T MODIFY ANYTHING IN THIS CELL THAT IS BELOW THIS LINE\n",
    "\"\"\"\n",
    "tests.test_pick_word(pick_word)"
   ]
  },
  {
   "cell_type": "markdown",
   "metadata": {},
   "source": [
    "## Generate TV Script\n",
    "This will generate the TV script for you.  Set `gen_length` to the length of TV script you want to generate."
   ]
  },
  {
   "cell_type": "code",
   "execution_count": 24,
   "metadata": {},
   "outputs": [
    {
     "name": "stdout",
     "output_type": "stream",
     "text": [
      "moe_szyslak:(tough) homer, the mob is puttin' the screws on me, see. that unless we are not better from my time?\n",
      "man: i all have to get in a place tonight.\n",
      "lenny_leonard: welcome the bad way, we're time for the times, look mad of all guys we can make this bike.\n",
      "lenny_leonard: i might are the old moe.\n",
      "barney_gumble: gimme your new.\n",
      "carl_carlson: hey, right now!\" moe_szyslak: hey, and all gonna send over her; since they pants a tell to the broad drunk.\n",
      "marge_simpson:(looking at himself) yeah, moe that.!\n",
      "moe_szyslak: oh you can mean we show. you wanna got this better than barney... oh who, why if they get drunk we're money.\n",
      "homer_simpson:(sotto, phone) well, it is when the wife thing is that ever or right.\n",
      "moe_szyslak: hey, sure is everything you all a man.\" forget your day? and i'm springfield night which many smurfs. that god! i'm a road\n"
     ]
    }
   ],
   "source": [
    "gen_length = 200\n",
    "# homer_simpson, moe_szyslak, or Barney_Gumble\n",
    "prime_word = 'moe_szyslak'\n",
    "\n",
    "\"\"\"\n",
    "DON'T MODIFY ANYTHING IN THIS CELL THAT IS BELOW THIS LINE\n",
    "\"\"\"\n",
    "loaded_graph = tf.Graph()\n",
    "with tf.Session(graph=loaded_graph) as sess:\n",
    "    # Load saved model\n",
    "    loader = tf.train.import_meta_graph(load_dir + '.meta')\n",
    "    loader.restore(sess, load_dir)\n",
    "\n",
    "    # Get Tensors from loaded model\n",
    "    input_text, initial_state, final_state, probs = get_tensors(loaded_graph)\n",
    "\n",
    "    # Sentences generation setup\n",
    "    gen_sentences = [prime_word + ':']\n",
    "    prev_state = sess.run(initial_state, {input_text: np.array([[1]])})\n",
    "\n",
    "    # Generate sentences\n",
    "    for n in range(gen_length):\n",
    "        # Dynamic Input\n",
    "        dyn_input = [[vocab_to_int[word] for word in gen_sentences[-seq_length:]]]\n",
    "        dyn_seq_length = len(dyn_input[0])\n",
    "\n",
    "        # Get Prediction\n",
    "        probabilities, prev_state = sess.run(\n",
    "            [probs, final_state],\n",
    "            {input_text: dyn_input, initial_state: prev_state})\n",
    "        \n",
    "        pred_word = pick_word(probabilities[dyn_seq_length-1], int_to_vocab)\n",
    "\n",
    "        gen_sentences.append(pred_word)\n",
    "    \n",
    "    # Remove tokens\n",
    "    tv_script = ' '.join(gen_sentences)\n",
    "    for key, token in token_dict.items():\n",
    "        ending = ' ' if key in ['\\n', '(', '\"'] else ''\n",
    "        tv_script = tv_script.replace(' ' + token.lower(), key)\n",
    "    tv_script = tv_script.replace('\\n ', '\\n')\n",
    "    tv_script = tv_script.replace('( ', '(')\n",
    "        \n",
    "    print(tv_script)"
   ]
  },
  {
   "cell_type": "markdown",
   "metadata": {},
   "source": [
    "# The TV Script is Nonsensical\n",
    "It's ok if the TV script doesn't make any sense.  We trained on less than a megabyte of text.  In order to get good results, you'll have to use a smaller vocabulary or get more data.  Luckly there's more data!  As we mentioned in the begging of this project, this is a subset of [another dataset](https://www.kaggle.com/wcukierski/the-simpsons-by-the-data).  We didn't have you train on all the data, because that would take too long.  However, you are free to train your neural network on all the data.  After you complete the project, of course.\n",
    "# Submitting This Project\n",
    "When submitting this project, make sure to run all the cells before saving the notebook. Save the notebook file as \"dlnd_tv_script_generation.ipynb\" and save it as a HTML file under \"File\" -> \"Download as\". Include the \"helper.py\" and \"problem_unittests.py\" files in your submission."
   ]
  },
  {
   "cell_type": "code",
   "execution_count": null,
   "metadata": {
    "collapsed": true
   },
   "outputs": [],
   "source": []
  }
 ],
 "metadata": {
  "kernelspec": {
   "display_name": "Python 3",
   "language": "python",
   "name": "python3"
  },
  "language_info": {
   "codemirror_mode": {
    "name": "ipython",
    "version": 3
   },
   "file_extension": ".py",
   "mimetype": "text/x-python",
   "name": "python",
   "nbconvert_exporter": "python",
   "pygments_lexer": "ipython3",
   "version": "3.5.2"
  },
  "widgets": {
   "state": {},
   "version": "1.1.2"
  }
 },
 "nbformat": 4,
 "nbformat_minor": 1
}
