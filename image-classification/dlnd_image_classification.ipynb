{
 "cells": [
  {
   "cell_type": "markdown",
   "metadata": {
    "collapsed": true
   },
   "source": [
    "# Image Classification\n",
    "In this project, you'll classify images from the [CIFAR-10 dataset](https://www.cs.toronto.edu/~kriz/cifar.html).  The dataset consists of airplanes, dogs, cats, and other objects. You'll preprocess the images, then train a convolutional neural network on all the samples. The images need to be normalized and the labels need to be one-hot encoded.  You'll get to apply what you learned and build a convolutional, max pooling, dropout, and fully connected layers.  At the end, you'll get to see your neural network's predictions on the sample images.\n",
    "## Get the Data\n",
    "Run the following cell to download the [CIFAR-10 dataset for python](https://www.cs.toronto.edu/~kriz/cifar-10-python.tar.gz)."
   ]
  },
  {
   "cell_type": "code",
   "execution_count": 1,
   "metadata": {},
   "outputs": [
    {
     "name": "stdout",
     "output_type": "stream",
     "text": [
      "All files found!\n"
     ]
    }
   ],
   "source": [
    "\"\"\"\n",
    "DON'T MODIFY ANYTHING IN THIS CELL THAT IS BELOW THIS LINE\n",
    "\"\"\"\n",
    "from urllib.request import urlretrieve\n",
    "from os.path import isfile, isdir\n",
    "from tqdm import tqdm\n",
    "import problem_unittests as tests\n",
    "import tarfile\n",
    "\n",
    "cifar10_dataset_folder_path = 'cifar-10-batches-py'\n",
    "\n",
    "class DLProgress(tqdm):\n",
    "    last_block = 0\n",
    "\n",
    "    def hook(self, block_num=1, block_size=1, total_size=None):\n",
    "        self.total = total_size\n",
    "        self.update((block_num - self.last_block) * block_size)\n",
    "        self.last_block = block_num\n",
    "\n",
    "if not isfile('cifar-10-python.tar.gz'):\n",
    "    with DLProgress(unit='B', unit_scale=True, miniters=1, desc='CIFAR-10 Dataset') as pbar:\n",
    "        urlretrieve(\n",
    "            'https://www.cs.toronto.edu/~kriz/cifar-10-python.tar.gz',\n",
    "            'cifar-10-python.tar.gz',\n",
    "            pbar.hook)\n",
    "\n",
    "if not isdir(cifar10_dataset_folder_path):\n",
    "    with tarfile.open('cifar-10-python.tar.gz') as tar:\n",
    "        tar.extractall()\n",
    "        tar.close()\n",
    "\n",
    "\n",
    "tests.test_folder_path(cifar10_dataset_folder_path)"
   ]
  },
  {
   "cell_type": "markdown",
   "metadata": {},
   "source": [
    "## Explore the Data\n",
    "The dataset is broken into batches to prevent your machine from running out of memory.  The CIFAR-10 dataset consists of 5 batches, named `data_batch_1`, `data_batch_2`, etc.. Each batch contains the labels and images that are one of the following:\n",
    "* airplane\n",
    "* automobile\n",
    "* bird\n",
    "* cat\n",
    "* deer\n",
    "* dog\n",
    "* frog\n",
    "* horse\n",
    "* ship\n",
    "* truck\n",
    "\n",
    "Understanding a dataset is part of making predictions on the data.  Play around with the code cell below by changing the `batch_id` and `sample_id`. The `batch_id` is the id for a batch (1-5). The `sample_id` is the id for a image and label pair in the batch.\n",
    "\n",
    "Ask yourself \"What are all possible labels?\", \"What is the range of values for the image data?\", \"Are the labels in order or random?\".  Answers to questions like these will help you preprocess the data and end up with better predictions."
   ]
  },
  {
   "cell_type": "code",
   "execution_count": 2,
   "metadata": {},
   "outputs": [
    {
     "name": "stdout",
     "output_type": "stream",
     "text": [
      "\n",
      "Stats of batch 2:\n",
      "Samples: 10000\n",
      "Label Counts: {0: 984, 1: 1007, 2: 1010, 3: 995, 4: 1010, 5: 988, 6: 1008, 7: 1026, 8: 987, 9: 985}\n",
      "First 20 Labels: [1, 6, 6, 8, 8, 3, 4, 6, 0, 6, 0, 3, 6, 6, 5, 4, 8, 3, 2, 6]\n",
      "\n",
      "Example of Image 3:\n",
      "Image - Min Value: 4 Max Value: 255\n",
      "Image - Shape: (32, 32, 3)\n",
      "Label - Label Id: 8 Name: ship\n"
     ]
    },
    {
     "data": {
      "image/png": "[encoded data removed]",
      "text/plain": [
       "<matplotlib.figure.Figure at 0x7fa9c51e2a20>"
      ]
     },
     "metadata": {
      "image/png": {
       "height": 250,
       "width": 253
      }
     },
     "output_type": "display_data"
    }
   ],
   "source": [
    "%matplotlib inline\n",
    "%config InlineBackend.figure_format = 'retina'\n",
    "\n",
    "import helper\n",
    "import numpy as np\n",
    "\n",
    "# Explore the dataset\n",
    "batch_id = 2\n",
    "sample_id = 3\n",
    "helper.display_stats(cifar10_dataset_folder_path, batch_id, sample_id)"
   ]
  },
  {
   "cell_type": "markdown",
   "metadata": {},
   "source": [
    "## Implement Preprocess Functions\n",
    "### Normalize\n",
    "In the cell below, implement the `normalize` function to take in image data, `x`, and return it as a normalized Numpy array. The values should be in the range of 0 to 1, inclusive.  The return object should be the same shape as `x`."
   ]
  },
  {
   "cell_type": "code",
   "execution_count": 3,
   "metadata": {},
   "outputs": [
    {
     "name": "stdout",
     "output_type": "stream",
     "text": [
      "Tests Passed\n"
     ]
    }
   ],
   "source": [
    "def normalize(x):\n",
    "    \"\"\"\n",
    "    Normalize a list of sample image data in the range of 0 to 1\n",
    "    : x: List of image data.  The image shape is (32, 32, 3)\n",
    "    : return: Numpy array of normalize data\n",
    "    \"\"\"\n",
    "    return np.array(x) / 255.0\n",
    "\n",
    "\n",
    "\"\"\"\n",
    "DON'T MODIFY ANYTHING IN THIS CELL THAT IS BELOW THIS LINE\n",
    "\"\"\"\n",
    "tests.test_normalize(normalize)"
   ]
  },
  {
   "cell_type": "markdown",
   "metadata": {},
   "source": [
    "### One-hot encode\n",
    "Just like the previous code cell, you'll be implementing a function for preprocessing.  This time, you'll implement the `one_hot_encode` function. The input, `x`, are a list of labels.  Implement the function to return the list of labels as One-Hot encoded Numpy array.  The possible values for labels are 0 to 9. The one-hot encoding function should return the same encoding for each value between each call to `one_hot_encode`.  Make sure to save the map of encodings outside the function.\n",
    "\n",
    "Hint: Don't reinvent the wheel."
   ]
  },
  {
   "cell_type": "code",
   "execution_count": 4,
   "metadata": {},
   "outputs": [
    {
     "name": "stdout",
     "output_type": "stream",
     "text": [
      "Tests Passed\n"
     ]
    }
   ],
   "source": [
    "from sklearn.preprocessing import OneHotEncoder\n",
    "\n",
    "def one_hot_encode(x):\n",
    "    \"\"\"\n",
    "    One hot encode a list of sample labels. Return a one-hot encoded vector for each label.\n",
    "    : x: List of sample Labels\n",
    "    : return: Numpy array of one-hot encoded labels\n",
    "    \"\"\"\n",
    "    one_hot_encoded = np.zeros((len(x), 10))\n",
    "    for i in range(len(x)):\n",
    "        one_hot_encoded[i][x[i]] = 1.0\n",
    "    return one_hot_encoded\n",
    "\n",
    "\n",
    "\"\"\"\n",
    "DON'T MODIFY ANYTHING IN THIS CELL THAT IS BELOW THIS LINE\n",
    "\"\"\"\n",
    "tests.test_one_hot_encode(one_hot_encode)"
   ]
  },
  {
   "cell_type": "markdown",
   "metadata": {},
   "source": [
    "### Randomize Data\n",
    "As you saw from exploring the data above, the order of the samples are randomized.  It doesn't hurt to randomize it again, but you don't need to for this dataset."
   ]
  },
  {
   "cell_type": "markdown",
   "metadata": {},
   "source": [
    "## Preprocess all the data and save it\n",
    "Running the code cell below will preprocess all the CIFAR-10 data and save it to file. The code below also uses 10% of the training data for validation."
   ]
  },
  {
   "cell_type": "code",
   "execution_count": 5,
   "metadata": {
    "collapsed": true
   },
   "outputs": [],
   "source": [
    "\"\"\"\n",
    "DON'T MODIFY ANYTHING IN THIS CELL\n",
    "\"\"\"\n",
    "# Preprocess Training, Validation, and Testing Data\n",
    "helper.preprocess_and_save_data(cifar10_dataset_folder_path, normalize, one_hot_encode)"
   ]
  },
  {
   "cell_type": "markdown",
   "metadata": {},
   "source": [
    "# Check Point\n",
    "This is your first checkpoint.  If you ever decide to come back to this notebook or have to restart the notebook, you can start from here.  The preprocessed data has been saved to disk."
   ]
  },
  {
   "cell_type": "code",
   "execution_count": 6,
   "metadata": {
    "collapsed": true
   },
   "outputs": [],
   "source": [
    "\"\"\"\n",
    "DON'T MODIFY ANYTHING IN THIS CELL\n",
    "\"\"\"\n",
    "import pickle\n",
    "import problem_unittests as tests\n",
    "import helper\n",
    "\n",
    "# Load the Preprocessed Validation data\n",
    "valid_features, valid_labels = pickle.load(open('preprocess_validation.p', mode='rb'))"
   ]
  },
  {
   "cell_type": "markdown",
   "metadata": {},
   "source": [
    "## Build the network\n",
    "For the neural network, you'll build each layer into a function.  Most of the code you've seen has been outside of functions. To test your code more thoroughly, we require that you put each layer in a function.  This allows us to give you better feedback and test for simple mistakes using our unittests before you submit your project.\n",
    "\n",
    ">**Note:** If you're finding it hard to dedicate enough time for this course each week, we've provided a small shortcut to this part of the project. In the next couple of problems, you'll have the option to use classes from the [TensorFlow Layers](https://www.tensorflow.org/api_docs/python/tf/layers) or [TensorFlow Layers (contrib)](https://www.tensorflow.org/api_guides/python/contrib.layers) packages to build each layer, except the layers you build in the \"Convolutional and Max Pooling Layer\" section.  TF Layers is similar to Keras's and TFLearn's abstraction to layers, so it's easy to pickup.\n",
    "\n",
    ">However, if you would like to get the most out of this course, try to solve all the problems _without_ using anything from the TF Layers packages. You **can** still use classes from other packages that happen to have the same name as ones you find in TF Layers! For example, instead of using the TF Layers version of the `conv2d` class, [tf.layers.conv2d](https://www.tensorflow.org/api_docs/python/tf/layers/conv2d), you would want to use the TF Neural Network version of `conv2d`, [tf.nn.conv2d](https://www.tensorflow.org/api_docs/python/tf/nn/conv2d). \n",
    "\n",
    "Let's begin!\n",
    "\n",
    "### Input\n",
    "The neural network needs to read the image data, one-hot encoded labels, and dropout keep probability. Implement the following functions\n",
    "* Implement `neural_net_image_input`\n",
    " * Return a [TF Placeholder](https://www.tensorflow.org/api_docs/python/tf/placeholder)\n",
    " * Set the shape using `image_shape` with batch size set to `None`.\n",
    " * Name the TensorFlow placeholder \"x\" using the TensorFlow `name` parameter in the [TF Placeholder](https://www.tensorflow.org/api_docs/python/tf/placeholder).\n",
    "* Implement `neural_net_label_input`\n",
    " * Return a [TF Placeholder](https://www.tensorflow.org/api_docs/python/tf/placeholder)\n",
    " * Set the shape using `n_classes` with batch size set to `None`.\n",
    " * Name the TensorFlow placeholder \"y\" using the TensorFlow `name` parameter in the [TF Placeholder](https://www.tensorflow.org/api_docs/python/tf/placeholder).\n",
    "* Implement `neural_net_keep_prob_input`\n",
    " * Return a [TF Placeholder](https://www.tensorflow.org/api_docs/python/tf/placeholder) for dropout keep probability.\n",
    " * Name the TensorFlow placeholder \"keep_prob\" using the TensorFlow `name` parameter in the [TF Placeholder](https://www.tensorflow.org/api_docs/python/tf/placeholder).\n",
    "\n",
    "These names will be used at the end of the project to load your saved model.\n",
    "\n",
    "Note: `None` for shapes in TensorFlow allow for a dynamic size."
   ]
  },
  {
   "cell_type": "code",
   "execution_count": 7,
   "metadata": {},
   "outputs": [
    {
     "name": "stdout",
     "output_type": "stream",
     "text": [
      "Image Input Tests Passed.\n",
      "Label Input Tests Passed.\n",
      "Keep Prob Tests Passed.\n"
     ]
    }
   ],
   "source": [
    "import tensorflow as tf\n",
    "\n",
    "def neural_net_image_input(image_shape):\n",
    "    \"\"\"\n",
    "    Return a Tensor for a bach of image input\n",
    "    : image_shape: Shape of the images\n",
    "    : return: Tensor for image input.\n",
    "    \"\"\"\n",
    "    return tf.placeholder(tf.float32, shape=(None, image_shape[0], image_shape[1], image_shape[2]), name='x')\n",
    "\n",
    "\n",
    "def neural_net_label_input(n_classes):\n",
    "    \"\"\"\n",
    "    Return a Tensor for a batch of label input\n",
    "    : n_classes: Number of classes\n",
    "    : return: Tensor for label input.\n",
    "    \"\"\"\n",
    "    return tf.placeholder(tf.float32, shape=(None, n_classes), name='y')\n",
    "\n",
    "\n",
    "def neural_net_keep_prob_input():\n",
    "    \"\"\"\n",
    "    Return a Tensor for keep probability\n",
    "    : return: Tensor for keep probability.\n",
    "    \"\"\"\n",
    "    # TODO: Implement Function\n",
    "    return tf.placeholder(tf.float32, name='keep_prob')\n",
    "\n",
    "\n",
    "\"\"\"\n",
    "DON'T MODIFY ANYTHING IN THIS CELL THAT IS BELOW THIS LINE\n",
    "\"\"\"\n",
    "tf.reset_default_graph()\n",
    "tests.test_nn_image_inputs(neural_net_image_input)\n",
    "tests.test_nn_label_inputs(neural_net_label_input)\n",
    "tests.test_nn_keep_prob_inputs(neural_net_keep_prob_input)"
   ]
  },
  {
   "cell_type": "markdown",
   "metadata": {},
   "source": [
    "### Convolution and Max Pooling Layer\n",
    "Convolution layers have a lot of success with images. For this code cell, you should implement the function `conv2d_maxpool` to apply convolution then max pooling:\n",
    "* Create the weight and bias using `conv_ksize`, `conv_num_outputs` and the shape of `x_tensor`.\n",
    "* Apply a convolution to `x_tensor` using weight and `conv_strides`.\n",
    " * We recommend you use same padding, but you're welcome to use any padding.\n",
    "* Add bias\n",
    "* Add a nonlinear activation to the convolution.\n",
    "* Apply Max Pooling using `pool_ksize` and `pool_strides`.\n",
    " * We recommend you use same padding, but you're welcome to use any padding.\n",
    "\n",
    "**Note:** You **can't** use [TensorFlow Layers](https://www.tensorflow.org/api_docs/python/tf/layers) or [TensorFlow Layers (contrib)](https://www.tensorflow.org/api_guides/python/contrib.layers) for **this** layer, but you can still use TensorFlow's [Neural Network](https://www.tensorflow.org/api_docs/python/tf/nn) package. You may still use the shortcut option for all the **other** layers."
   ]
  },
  {
   "cell_type": "code",
   "execution_count": 8,
   "metadata": {},
   "outputs": [
    {
     "name": "stdout",
     "output_type": "stream",
     "text": [
      "conv_num_outputs: 10 conv_ksize: (2, 2) conv_strides: (4, 4) pool_ksize: (2, 2) pool_strides (2, 2) layer shape [None, 4, 4, 10]\n",
      "Tests Passed\n"
     ]
    }
   ],
   "source": [
    "def conv2d_maxpool(x_tensor, conv_num_outputs, conv_ksize, conv_strides, pool_ksize, pool_strides):\n",
    "    \"\"\"\n",
    "    Apply convolution then max pooling to x_tensor\n",
    "    :param x_tensor: TensorFlow Tensor\n",
    "    :param conv_num_outputs: Number of outputs for the convolutional layer\n",
    "    :param conv_ksize: kernal size 2-D Tuple for the convolutional layer\n",
    "    :param conv_strides: Stride 2-D Tuple for convolution\n",
    "    :param pool_ksize: kernal size 2-D Tuple for pool\n",
    "    :param pool_strides: Stride 2-D Tuple for pool\n",
    "    : return: A tensor that represents convolution and max pooling of x_tensor\n",
    "    \"\"\"\n",
    "    # Create filter dimensions\n",
    "    filter_height, filter_width, in_channels, out_channels = \\\n",
    "        conv_ksize[0], conv_ksize[1],  x_tensor.get_shape().as_list()[3], conv_num_outputs\n",
    "    conv_filter = [filter_height, filter_width, in_channels, out_channels]\n",
    "    \n",
    "    # Create weights and bias\n",
    "    weights = tf.Variable(tf.truncated_normal(conv_filter, stddev=0.05))\n",
    "    bias = tf.Variable(tf.truncated_normal([conv_num_outputs], stddev=0.05))\n",
    "    \n",
    "    # Create strides\n",
    "    strides=(1,conv_strides[0], conv_strides[1], 1)\n",
    "    \n",
    "    # Create all together\n",
    "    conv = tf.nn.conv2d(x_tensor, weights, strides, padding='SAME')\n",
    "    conv = tf.nn.bias_add(conv, bias) \n",
    "    conv = tf.nn.relu(conv)\n",
    "    \n",
    "    # Create ksize \n",
    "    ksize = (1, pool_ksize[0], pool_ksize[1], 1)\n",
    "    \n",
    "    # Create strides\n",
    "    strides=(1,pool_strides[0], pool_strides[1], 1)\n",
    "    \n",
    "    pool = tf.nn.max_pool(conv, ksize, strides, padding='SAME')\n",
    "    \n",
    "    print('conv_num_outputs:',conv_num_outputs,\n",
    "          'conv_ksize:', conv_ksize,\n",
    "          'conv_strides:', conv_strides,\n",
    "          'pool_ksize:',pool_ksize,\n",
    "          'pool_strides', pool_strides,\n",
    "          'layer shape', pool.get_shape().as_list())\n",
    "    \n",
    "    return pool\n",
    "\n",
    "\n",
    "\"\"\"\n",
    "DON'T MODIFY ANYTHING IN THIS CELL THAT IS BELOW THIS LINE\n",
    "\"\"\"\n",
    "tests.test_con_pool(conv2d_maxpool)"
   ]
  },
  {
   "cell_type": "markdown",
   "metadata": {},
   "source": [
    "### Flatten Layer\n",
    "Implement the `flatten` function to change the dimension of `x_tensor` from a 4-D tensor to a 2-D tensor.  The output should be the shape (*Batch Size*, *Flattened Image Size*). Shortcut option: you can use classes from the [TensorFlow Layers](https://www.tensorflow.org/api_docs/python/tf/layers) or [TensorFlow Layers (contrib)](https://www.tensorflow.org/api_guides/python/contrib.layers) packages for this layer. For more of a challenge, only use other TensorFlow packages."
   ]
  },
  {
   "cell_type": "code",
   "execution_count": 9,
   "metadata": {},
   "outputs": [
    {
     "name": "stdout",
     "output_type": "stream",
     "text": [
      "flatten shape [None, 1800]\n",
      "Tests Passed\n"
     ]
    }
   ],
   "source": [
    "def flatten(x_tensor):\n",
    "    \"\"\"\n",
    "    Flatten x_tensor to (Batch Size, Flattened Image Size)\n",
    "    : x_tensor: A tensor of size (Batch Size, ...), where ... are the image dimensions.\n",
    "    : return: A tensor of size (Batch Size, Flattened Image Size).\n",
    "    \"\"\"\n",
    "    \n",
    "    _, height, width, channels = x_tensor.get_shape().as_list()\n",
    "    net = tf.reshape(x_tensor, shape=[-1, height * width * channels])\n",
    "    print('flatten shape', net.get_shape().as_list())\n",
    "    return net\n",
    "\n",
    "\"\"\"\n",
    "DON'T MODIFY ANYTHING IN THIS CELL THAT IS BELOW THIS LINE\n",
    "\"\"\"\n",
    "tests.test_flatten(flatten)"
   ]
  },
  {
   "cell_type": "markdown",
   "metadata": {},
   "source": [
    "### Fully-Connected Layer\n",
    "Implement the `fully_conn` function to apply a fully connected layer to `x_tensor` with the shape (*Batch Size*, *num_outputs*). Shortcut option: you can use classes from the [TensorFlow Layers](https://www.tensorflow.org/api_docs/python/tf/layers) or [TensorFlow Layers (contrib)](https://www.tensorflow.org/api_guides/python/contrib.layers) packages for this layer. For more of a challenge, only use other TensorFlow packages."
   ]
  },
  {
   "cell_type": "code",
   "execution_count": 10,
   "metadata": {},
   "outputs": [
    {
     "name": "stdout",
     "output_type": "stream",
     "text": [
      "Tests Passed\n"
     ]
    }
   ],
   "source": [
    "def fully_conn(x_tensor, num_outputs):\n",
    "    \"\"\"\n",
    "    Apply a fully connected layer to x_tensor using weight and bias\n",
    "    : x_tensor: A 2-D tensor where the first dimension is batch size.\n",
    "    : num_outputs: The number of output that the new tensor should be.\n",
    "    : return: A 2-D tensor where the second dimension is num_outputs.\n",
    "    \"\"\"\n",
    "    _, size = x_tensor.get_shape().as_list()\n",
    "    weights = tf.Variable(tf.truncated_normal([size, num_outputs], stddev=0.05))\n",
    "    bias = tf.Variable(tf.truncated_normal([num_outputs], stddev=0.05))\n",
    "    \n",
    "    fully_connected = tf.add(tf.matmul(x_tensor, weights), bias)\n",
    "    fully_connected = tf.nn.relu(fully_connected)\n",
    "    \n",
    "    return fully_connected\n",
    "\n",
    "\n",
    "\"\"\"\n",
    "DON'T MODIFY ANYTHING IN THIS CELL THAT IS BELOW THIS LINE\n",
    "\"\"\"\n",
    "tests.test_fully_conn(fully_conn)"
   ]
  },
  {
   "cell_type": "markdown",
   "metadata": {},
   "source": [
    "### Output Layer\n",
    "Implement the `output` function to apply a fully connected layer to `x_tensor` with the shape (*Batch Size*, *num_outputs*). Shortcut option: you can use classes from the [TensorFlow Layers](https://www.tensorflow.org/api_docs/python/tf/layers) or [TensorFlow Layers (contrib)](https://www.tensorflow.org/api_guides/python/contrib.layers) packages for this layer. For more of a challenge, only use other TensorFlow packages.\n",
    "\n",
    "**Note:** Activation, softmax, or cross entropy should **not** be applied to this."
   ]
  },
  {
   "cell_type": "code",
   "execution_count": 12,
   "metadata": {},
   "outputs": [
    {
     "name": "stdout",
     "output_type": "stream",
     "text": [
      "Tests Passed\n"
     ]
    }
   ],
   "source": [
    "def output(x_tensor, num_outputs):\n",
    "    \"\"\"\n",
    "    Apply a output layer to x_tensor using weight and bias\n",
    "    : x_tensor: A 2-D tensor where the first dimension is batch size.\n",
    "    : num_outputs: The number of output that the new tensor should be.\n",
    "    : return: A 2-D tensor where the second dimension is num_outputs.\n",
    "    \"\"\"\n",
    "    _, size = x_tensor.get_shape().as_list()\n",
    "    weights = tf.Variable(tf.truncated_normal([size, num_outputs], stddev=0.05))\n",
    "    bias = tf.Variable(tf.truncated_normal([num_outputs], stddev=0.05))\n",
    "    \n",
    "    fully_connected = tf.add(tf.matmul(x_tensor, weights), bias)\n",
    "    return fully_connected\n",
    "\n",
    "\"\"\"\n",
    "DON'T MODIFY ANYTHING IN THIS CELL THAT IS BELOW THIS LINE\n",
    "\"\"\"\n",
    "tests.test_output(output)"
   ]
  },
  {
   "cell_type": "markdown",
   "metadata": {},
   "source": [
    "### Create Convolutional Model\n",
    "Implement the function `conv_net` to create a convolutional neural network model. The function takes in a batch of images, `x`, and outputs logits.  Use the layers you created above to create this model:\n",
    "\n",
    "* Apply 1, 2, or 3 Convolution and Max Pool layers\n",
    "* Apply a Flatten Layer\n",
    "* Apply 1, 2, or 3 Fully Connected Layers\n",
    "* Apply an Output Layer\n",
    "* Return the output\n",
    "* Apply [TensorFlow's Dropout](https://www.tensorflow.org/api_docs/python/tf/nn/dropout) to one or more layers in the model using `keep_prob`. "
   ]
  },
  {
   "cell_type": "code",
   "execution_count": 13,
   "metadata": {},
   "outputs": [
    {
     "name": "stdout",
     "output_type": "stream",
     "text": [
      "conv_num_outputs: 32 conv_ksize: (7, 7) conv_strides: (2, 2) pool_ksize: (2, 2) pool_strides (2, 2) layer shape [None, 8, 8, 32]\n",
      "conv_num_outputs: 64 conv_ksize: (3, 3) conv_strides: (1, 1) pool_ksize: (2, 2) pool_strides (2, 2) layer shape [None, 4, 4, 64]\n",
      "conv_num_outputs: 128 conv_ksize: (2, 2) conv_strides: (1, 1) pool_ksize: (2, 2) pool_strides (2, 2) layer shape [None, 2, 2, 128]\n",
      "flatten shape [None, 512]\n",
      "conv_num_outputs: 32 conv_ksize: (7, 7) conv_strides: (2, 2) pool_ksize: (2, 2) pool_strides (2, 2) layer shape [None, 8, 8, 32]\n",
      "conv_num_outputs: 64 conv_ksize: (3, 3) conv_strides: (1, 1) pool_ksize: (2, 2) pool_strides (2, 2) layer shape [None, 4, 4, 64]\n",
      "conv_num_outputs: 128 conv_ksize: (2, 2) conv_strides: (1, 1) pool_ksize: (2, 2) pool_strides (2, 2) layer shape [None, 2, 2, 128]\n",
      "flatten shape [None, 512]\n",
      "Neural Network Built!\n"
     ]
    }
   ],
   "source": [
    "def conv_net(x, keep_prob):\n",
    "    \"\"\"\n",
    "    Create a convolutional neural network model\n",
    "    : x: Placeholder tensor that holds image data.\n",
    "    : keep_prob: Placeholder tensor that hold dropout keep probability.\n",
    "    : return: Tensor that represents logits\n",
    "    \"\"\"\n",
    "    # TODO: Apply 1, 2, or 3 Convolution and Max Pool layers\n",
    "    #    Play around with different number of outputs, kernel size and stride\n",
    "    # Function Definition from Above:\n",
    "    # conv2d_maxpool(x_tensor, conv_num_outputs, conv_ksize, conv_strides, pool_ksize, pool_strides)\n",
    "    \n",
    "    net = conv2d_maxpool(x,   32, (7,7), (2,2), (2,2), (2,2))\n",
    "    net = conv2d_maxpool(net, 64, (3,3), (1,1), (2,2), (2,2))\n",
    "    net = conv2d_maxpool(net, 128, (2,2), (1,1), (2,2), (2,2))\n",
    "    \n",
    "\n",
    "    # TODO: Apply a Flatten Layer\n",
    "    # Function Definition from Above:\n",
    "    #   flatten(x_tensor)\n",
    "    net = flatten(net)\n",
    "\n",
    "    # TODO: Apply 1, 2, or 3 Fully Connected Layers\n",
    "    #    Play around with different number of outputs\n",
    "    # Function Definition from Above:\n",
    "    #   fully_conn(x_tensor, num_outputs)\n",
    "    net = tf.nn.dropout(net, keep_prob)\n",
    "    net = fully_conn(net, 1024)\n",
    "    net = tf.nn.dropout(net, keep_prob)\n",
    "    net = fully_conn(net, 128)\n",
    "\n",
    "    \n",
    "    # TODO: Apply an Output Layer\n",
    "    #    Set this to the number of classes\n",
    "    # Function Definition from Above:\n",
    "    #   output(x_tensor, num_outputs)\n",
    "    net = output(net, 10)\n",
    "    \n",
    "    # TODO: return output\n",
    "    return net\n",
    "\n",
    "\n",
    "\"\"\"\n",
    "DON'T MODIFY ANYTHING IN THIS CELL THAT IS BELOW THIS LINE\n",
    "\"\"\"\n",
    "\n",
    "##############################\n",
    "## Build the Neural Network ##\n",
    "##############################\n",
    "\n",
    "# Remove previous weights, bias, inputs, etc..\n",
    "tf.reset_default_graph()\n",
    "\n",
    "# Inputs\n",
    "x = neural_net_image_input((32, 32, 3))\n",
    "y = neural_net_label_input(10)\n",
    "keep_prob = neural_net_keep_prob_input()\n",
    "\n",
    "# Model\n",
    "logits = conv_net(x, keep_prob)\n",
    "\n",
    "# Name logits Tensor, so that is can be loaded from disk after training\n",
    "logits = tf.identity(logits, name='logits')\n",
    "\n",
    "# Loss and Optimizer\n",
    "cost = tf.reduce_mean(tf.nn.softmax_cross_entropy_with_logits(logits=logits, labels=y))\n",
    "optimizer = tf.train.AdamOptimizer().minimize(cost)\n",
    "\n",
    "# Accuracy\n",
    "correct_pred = tf.equal(tf.argmax(logits, 1), tf.argmax(y, 1))\n",
    "accuracy = tf.reduce_mean(tf.cast(correct_pred, tf.float32), name='accuracy')\n",
    "\n",
    "tests.test_conv_net(conv_net)"
   ]
  },
  {
   "cell_type": "markdown",
   "metadata": {},
   "source": [
    "## Train the Neural Network\n",
    "### Single Optimization\n",
    "Implement the function `train_neural_network` to do a single optimization.  The optimization should use `optimizer` to optimize in `session` with a `feed_dict` of the following:\n",
    "* `x` for image input\n",
    "* `y` for labels\n",
    "* `keep_prob` for keep probability for dropout\n",
    "\n",
    "This function will be called for each batch, so `tf.global_variables_initializer()` has already been called.\n",
    "\n",
    "Note: Nothing needs to be returned. This function is only optimizing the neural network."
   ]
  },
  {
   "cell_type": "code",
   "execution_count": 14,
   "metadata": {},
   "outputs": [
    {
     "name": "stdout",
     "output_type": "stream",
     "text": [
      "Tests Passed\n"
     ]
    }
   ],
   "source": [
    "def train_neural_network(session, optimizer, keep_probability, feature_batch, label_batch):\n",
    "    \"\"\"\n",
    "    Optimize the session on a batch of images and labels\n",
    "    : session: Current TensorFlow session\n",
    "    : optimizer: TensorFlow optimizer function\n",
    "    : keep_probability: keep probability\n",
    "    : feature_batch: Batch of Numpy image data\n",
    "    : label_batch: Batch of Numpy label data\n",
    "    \"\"\"\n",
    "    # TODO: Implement Function\n",
    "    return session.run(optimizer, feed_dict={x:feature_batch, y:label_batch, keep_prob:keep_probability})\n",
    "\n",
    "\n",
    "\"\"\"\n",
    "DON'T MODIFY ANYTHING IN THIS CELL THAT IS BELOW THIS LINE\n",
    "\"\"\"\n",
    "tests.test_train_nn(train_neural_network)"
   ]
  },
  {
   "cell_type": "markdown",
   "metadata": {},
   "source": [
    "### Show Stats\n",
    "Implement the function `print_stats` to print loss and validation accuracy.  Use the global variables `valid_features` and `valid_labels` to calculate validation accuracy.  Use a keep probability of `1.0` to calculate the loss and validation accuracy."
   ]
  },
  {
   "cell_type": "code",
   "execution_count": 15,
   "metadata": {
    "collapsed": true
   },
   "outputs": [],
   "source": [
    "def print_stats(session, feature_batch, label_batch, cost, accuracy):\n",
    "    \"\"\"\n",
    "    Print information about loss and validation accuracy\n",
    "    : session: Current TensorFlow session\n",
    "    : feature_batch: Batch of Numpy image data\n",
    "    : label_batch: Batch of Numpy label data\n",
    "    : cost: TensorFlow cost function\n",
    "    : accuracy: TensorFlow accuracy function\n",
    "    \"\"\"\n",
    "    batch_loss = session.run(cost, feed_dict={x:feature_batch, y:label_batch, keep_prob:1.0})\n",
    "    batch_accuracy = session.run(accuracy, feed_dict={x:valid_features, y:valid_labels, keep_prob:1.0})\n",
    "    \n",
    "    print('batch loss is : ', batch_loss)\n",
    "    print('batch_accuracy accuracy is :',batch_accuracy)"
   ]
  },
  {
   "cell_type": "markdown",
   "metadata": {},
   "source": [
    "### Hyperparameters\n",
    "Tune the following parameters:\n",
    "* Set `epochs` to the number of iterations until the network stops learning or start overfitting\n",
    "* Set `batch_size` to the highest number that your machine has memory for.  Most people set them to common sizes of memory:\n",
    " * 64\n",
    " * 128\n",
    " * 256\n",
    " * ...\n",
    "* Set `keep_probability` to the probability of keeping a node using dropout"
   ]
  },
  {
   "cell_type": "code",
   "execution_count": 16,
   "metadata": {
    "collapsed": true
   },
   "outputs": [],
   "source": [
    "# TODO: Tune Parameters\n",
    "epochs = 25\n",
    "batch_size = 256\n",
    "keep_probability = 0.5"
   ]
  },
  {
   "cell_type": "markdown",
   "metadata": {},
   "source": [
    "### Train on a Single CIFAR-10 Batch\n",
    "Instead of training the neural network on all the CIFAR-10 batches of data, let's use a single batch. This should save time while you iterate on the model to get a better accuracy.  Once the final validation accuracy is 50% or greater, run the model on all the data in the next section."
   ]
  },
  {
   "cell_type": "code",
   "execution_count": 17,
   "metadata": {},
   "outputs": [
    {
     "name": "stdout",
     "output_type": "stream",
     "text": [
      "Checking the Training on a Single Batch...\n",
      "Epoch  1, CIFAR-10 Batch 1:  batch loss is :  2.13446\n",
      "batch_accuracy accuracy is : 0.2498\n",
      "Epoch  2, CIFAR-10 Batch 1:  batch loss is :  2.0696\n",
      "batch_accuracy accuracy is : 0.3006\n",
      "Epoch  3, CIFAR-10 Batch 1:  batch loss is :  1.8409\n",
      "batch_accuracy accuracy is : 0.3642\n",
      "Epoch  4, CIFAR-10 Batch 1:  batch loss is :  1.73967\n",
      "batch_accuracy accuracy is : 0.4022\n",
      "Epoch  5, CIFAR-10 Batch 1:  batch loss is :  1.62131\n",
      "batch_accuracy accuracy is : 0.4138\n",
      "Epoch  6, CIFAR-10 Batch 1:  batch loss is :  1.56896\n",
      "batch_accuracy accuracy is : 0.4164\n",
      "Epoch  7, CIFAR-10 Batch 1:  batch loss is :  1.44364\n",
      "batch_accuracy accuracy is : 0.4352\n",
      "Epoch  8, CIFAR-10 Batch 1:  batch loss is :  1.28916\n",
      "batch_accuracy accuracy is : 0.4674\n",
      "Epoch  9, CIFAR-10 Batch 1:  batch loss is :  1.20635\n",
      "batch_accuracy accuracy is : 0.475\n",
      "Epoch 10, CIFAR-10 Batch 1:  batch loss is :  1.12231\n",
      "batch_accuracy accuracy is : 0.4848\n",
      "Epoch 11, CIFAR-10 Batch 1:  batch loss is :  1.04105\n",
      "batch_accuracy accuracy is : 0.4914\n",
      "Epoch 12, CIFAR-10 Batch 1:  batch loss is :  0.948736\n",
      "batch_accuracy accuracy is : 0.4918\n",
      "Epoch 13, CIFAR-10 Batch 1:  batch loss is :  0.930508\n",
      "batch_accuracy accuracy is : 0.5\n",
      "Epoch 14, CIFAR-10 Batch 1:  batch loss is :  0.849725\n",
      "batch_accuracy accuracy is : 0.5012\n",
      "Epoch 15, CIFAR-10 Batch 1:  batch loss is :  0.775796\n",
      "batch_accuracy accuracy is : 0.5172\n",
      "Epoch 16, CIFAR-10 Batch 1:  batch loss is :  0.731889\n",
      "batch_accuracy accuracy is : 0.5132\n",
      "Epoch 17, CIFAR-10 Batch 1:  batch loss is :  0.654054\n",
      "batch_accuracy accuracy is : 0.5186\n",
      "Epoch 18, CIFAR-10 Batch 1:  batch loss is :  0.658885\n",
      "batch_accuracy accuracy is : 0.5102\n",
      "Epoch 19, CIFAR-10 Batch 1:  batch loss is :  0.651762\n",
      "batch_accuracy accuracy is : 0.5048\n",
      "Epoch 20, CIFAR-10 Batch 1:  batch loss is :  0.562075\n",
      "batch_accuracy accuracy is : 0.5298\n",
      "Epoch 21, CIFAR-10 Batch 1:  batch loss is :  0.499392\n",
      "batch_accuracy accuracy is : 0.5438\n",
      "Epoch 22, CIFAR-10 Batch 1:  batch loss is :  0.541208\n",
      "batch_accuracy accuracy is : 0.5316\n",
      "Epoch 23, CIFAR-10 Batch 1:  batch loss is :  0.500415\n",
      "batch_accuracy accuracy is : 0.527\n",
      "Epoch 24, CIFAR-10 Batch 1:  batch loss is :  0.425642\n",
      "batch_accuracy accuracy is : 0.5616\n",
      "Epoch 25, CIFAR-10 Batch 1:  batch loss is :  0.400393\n",
      "batch_accuracy accuracy is : 0.54\n"
     ]
    }
   ],
   "source": [
    "\"\"\"\n",
    "DON'T MODIFY ANYTHING IN THIS CELL\n",
    "\"\"\"\n",
    "print('Checking the Training on a Single Batch...')\n",
    "with tf.Session() as sess:\n",
    "    # Initializing the variables\n",
    "    sess.run(tf.global_variables_initializer())\n",
    "    \n",
    "    # Training cycle\n",
    "    for epoch in range(epochs):\n",
    "        batch_i = 1\n",
    "        for batch_features, batch_labels in helper.load_preprocess_training_batch(batch_i, batch_size):\n",
    "            train_neural_network(sess, optimizer, keep_probability, batch_features, batch_labels)\n",
    "        print('Epoch {:>2}, CIFAR-10 Batch {}:  '.format(epoch + 1, batch_i), end='')\n",
    "        print_stats(sess, batch_features, batch_labels, cost, accuracy)"
   ]
  },
  {
   "cell_type": "markdown",
   "metadata": {},
   "source": [
    "### Fully Train the Model\n",
    "Now that you got a good accuracy with a single CIFAR-10 batch, try it with all five batches."
   ]
  },
  {
   "cell_type": "code",
   "execution_count": 18,
   "metadata": {},
   "outputs": [
    {
     "name": "stdout",
     "output_type": "stream",
     "text": [
      "Training...\n",
      "Epoch  1, CIFAR-10 Batch 1:  batch loss is :  2.17684\n",
      "batch_accuracy accuracy is : 0.2562\n",
      "Epoch  1, CIFAR-10 Batch 2:  batch loss is :  1.86626\n",
      "batch_accuracy accuracy is : 0.3292\n",
      "Epoch  1, CIFAR-10 Batch 3:  batch loss is :  1.64964\n",
      "batch_accuracy accuracy is : 0.3426\n",
      "Epoch  1, CIFAR-10 Batch 4:  batch loss is :  1.73768\n",
      "batch_accuracy accuracy is : 0.395\n",
      "Epoch  1, CIFAR-10 Batch 5:  batch loss is :  1.73059\n",
      "batch_accuracy accuracy is : 0.4172\n",
      "Epoch  2, CIFAR-10 Batch 1:  batch loss is :  1.81541\n",
      "batch_accuracy accuracy is : 0.4164\n",
      "Epoch  2, CIFAR-10 Batch 2:  batch loss is :  1.74225\n",
      "batch_accuracy accuracy is : 0.4348\n",
      "Epoch  2, CIFAR-10 Batch 3:  batch loss is :  1.29681\n",
      "batch_accuracy accuracy is : 0.4156\n",
      "Epoch  2, CIFAR-10 Batch 4:  batch loss is :  1.49489\n",
      "batch_accuracy accuracy is : 0.4644\n",
      "Epoch  2, CIFAR-10 Batch 5:  batch loss is :  1.54513\n",
      "batch_accuracy accuracy is : 0.4612\n",
      "Epoch  3, CIFAR-10 Batch 1:  batch loss is :  1.49036\n",
      "batch_accuracy accuracy is : 0.474\n",
      "Epoch  3, CIFAR-10 Batch 2:  batch loss is :  1.45972\n",
      "batch_accuracy accuracy is : 0.4882\n",
      "Epoch  3, CIFAR-10 Batch 3:  batch loss is :  1.14533\n",
      "batch_accuracy accuracy is : 0.4536\n",
      "Epoch  3, CIFAR-10 Batch 4:  batch loss is :  1.31823\n",
      "batch_accuracy accuracy is : 0.505\n",
      "Epoch  3, CIFAR-10 Batch 5:  batch loss is :  1.3131\n",
      "batch_accuracy accuracy is : 0.5236\n",
      "Epoch  4, CIFAR-10 Batch 1:  batch loss is :  1.34239\n",
      "batch_accuracy accuracy is : 0.512\n",
      "Epoch  4, CIFAR-10 Batch 2:  batch loss is :  1.28763\n",
      "batch_accuracy accuracy is : 0.5014\n",
      "Epoch  4, CIFAR-10 Batch 3:  batch loss is :  1.02488\n",
      "batch_accuracy accuracy is : 0.5194\n",
      "Epoch  4, CIFAR-10 Batch 4:  batch loss is :  1.1437\n",
      "batch_accuracy accuracy is : 0.5458\n",
      "Epoch  4, CIFAR-10 Batch 5:  batch loss is :  1.19044\n",
      "batch_accuracy accuracy is : 0.5346\n",
      "Epoch  5, CIFAR-10 Batch 1:  batch loss is :  1.18638\n",
      "batch_accuracy accuracy is : 0.5312\n",
      "Epoch  5, CIFAR-10 Batch 2:  batch loss is :  1.14121\n",
      "batch_accuracy accuracy is : 0.5582\n",
      "Epoch  5, CIFAR-10 Batch 3:  batch loss is :  0.916773\n",
      "batch_accuracy accuracy is : 0.5432\n",
      "Epoch  5, CIFAR-10 Batch 4:  batch loss is :  1.05193\n",
      "batch_accuracy accuracy is : 0.5688\n",
      "Epoch  5, CIFAR-10 Batch 5:  batch loss is :  1.00592\n",
      "batch_accuracy accuracy is : 0.564\n",
      "Epoch  6, CIFAR-10 Batch 1:  batch loss is :  1.07431\n",
      "batch_accuracy accuracy is : 0.553\n",
      "Epoch  6, CIFAR-10 Batch 2:  batch loss is :  0.960407\n",
      "batch_accuracy accuracy is : 0.5644\n",
      "Epoch  6, CIFAR-10 Batch 3:  batch loss is :  0.793994\n",
      "batch_accuracy accuracy is : 0.5722\n",
      "Epoch  6, CIFAR-10 Batch 4:  batch loss is :  0.931173\n",
      "batch_accuracy accuracy is : 0.5714\n",
      "Epoch  6, CIFAR-10 Batch 5:  batch loss is :  0.899132\n",
      "batch_accuracy accuracy is : 0.5878\n",
      "Epoch  7, CIFAR-10 Batch 1:  batch loss is :  0.926093\n",
      "batch_accuracy accuracy is : 0.5764\n",
      "Epoch  7, CIFAR-10 Batch 2:  batch loss is :  0.860662\n",
      "batch_accuracy accuracy is : 0.5752\n",
      "Epoch  7, CIFAR-10 Batch 3:  batch loss is :  0.712436\n",
      "batch_accuracy accuracy is : 0.5866\n",
      "Epoch  7, CIFAR-10 Batch 4:  batch loss is :  0.805296\n",
      "batch_accuracy accuracy is : 0.587\n",
      "Epoch  7, CIFAR-10 Batch 5:  batch loss is :  0.779243\n",
      "batch_accuracy accuracy is : 0.5868\n",
      "Epoch  8, CIFAR-10 Batch 1:  batch loss is :  0.845943\n",
      "batch_accuracy accuracy is : 0.5762\n",
      "Epoch  8, CIFAR-10 Batch 2:  batch loss is :  0.779622\n",
      "batch_accuracy accuracy is : 0.5896\n",
      "Epoch  8, CIFAR-10 Batch 3:  batch loss is :  0.598409\n",
      "batch_accuracy accuracy is : 0.589\n",
      "Epoch  8, CIFAR-10 Batch 4:  batch loss is :  0.728386\n",
      "batch_accuracy accuracy is : 0.6094\n",
      "Epoch  8, CIFAR-10 Batch 5:  batch loss is :  0.732787\n",
      "batch_accuracy accuracy is : 0.6042\n",
      "Epoch  9, CIFAR-10 Batch 1:  batch loss is :  0.800779\n",
      "batch_accuracy accuracy is : 0.605\n",
      "Epoch  9, CIFAR-10 Batch 2:  batch loss is :  0.68031\n",
      "batch_accuracy accuracy is : 0.6052\n",
      "Epoch  9, CIFAR-10 Batch 3:  batch loss is :  0.516059\n",
      "batch_accuracy accuracy is : 0.6128\n",
      "Epoch  9, CIFAR-10 Batch 4:  batch loss is :  0.696298\n",
      "batch_accuracy accuracy is : 0.619\n",
      "Epoch  9, CIFAR-10 Batch 5:  batch loss is :  0.638749\n",
      "batch_accuracy accuracy is : 0.6206\n",
      "Epoch 10, CIFAR-10 Batch 1:  batch loss is :  0.771099\n",
      "batch_accuracy accuracy is : 0.621\n",
      "Epoch 10, CIFAR-10 Batch 2:  batch loss is :  0.606559\n",
      "batch_accuracy accuracy is : 0.6038\n",
      "Epoch 10, CIFAR-10 Batch 3:  batch loss is :  0.465742\n",
      "batch_accuracy accuracy is : 0.6302\n",
      "Epoch 10, CIFAR-10 Batch 4:  batch loss is :  0.61373\n",
      "batch_accuracy accuracy is : 0.6322\n",
      "Epoch 10, CIFAR-10 Batch 5:  batch loss is :  0.58983\n",
      "batch_accuracy accuracy is : 0.6396\n",
      "Epoch 11, CIFAR-10 Batch 1:  batch loss is :  0.700003\n",
      "batch_accuracy accuracy is : 0.644\n",
      "Epoch 11, CIFAR-10 Batch 2:  batch loss is :  0.561387\n",
      "batch_accuracy accuracy is : 0.6148\n",
      "Epoch 11, CIFAR-10 Batch 3:  batch loss is :  0.424252\n",
      "batch_accuracy accuracy is : 0.6418\n",
      "Epoch 11, CIFAR-10 Batch 4:  batch loss is :  0.52677\n",
      "batch_accuracy accuracy is : 0.6484\n",
      "Epoch 11, CIFAR-10 Batch 5:  batch loss is :  0.532931\n",
      "batch_accuracy accuracy is : 0.6464\n",
      "Epoch 12, CIFAR-10 Batch 1:  batch loss is :  0.583073\n",
      "batch_accuracy accuracy is : 0.6406\n",
      "Epoch 12, CIFAR-10 Batch 2:  batch loss is :  0.525398\n",
      "batch_accuracy accuracy is : 0.646\n",
      "Epoch 12, CIFAR-10 Batch 3:  batch loss is :  0.425347\n",
      "batch_accuracy accuracy is : 0.6372\n",
      "Epoch 12, CIFAR-10 Batch 4:  batch loss is :  0.550042\n",
      "batch_accuracy accuracy is : 0.6478\n",
      "Epoch 12, CIFAR-10 Batch 5:  batch loss is :  0.4992\n",
      "batch_accuracy accuracy is : 0.6402\n",
      "Epoch 13, CIFAR-10 Batch 1:  batch loss is :  0.572491\n",
      "batch_accuracy accuracy is : 0.6072\n",
      "Epoch 13, CIFAR-10 Batch 2:  batch loss is :  0.481521\n",
      "batch_accuracy accuracy is : 0.6468\n",
      "Epoch 13, CIFAR-10 Batch 3:  batch loss is :  0.380927\n",
      "batch_accuracy accuracy is : 0.6488\n",
      "Epoch 13, CIFAR-10 Batch 4:  batch loss is :  0.500938\n",
      "batch_accuracy accuracy is : 0.6522\n",
      "Epoch 13, CIFAR-10 Batch 5:  batch loss is :  0.486168\n",
      "batch_accuracy accuracy is : 0.6486\n",
      "Epoch 14, CIFAR-10 Batch 1:  batch loss is :  0.490996\n",
      "batch_accuracy accuracy is : 0.6374\n",
      "Epoch 14, CIFAR-10 Batch 2:  batch loss is :  0.431525\n",
      "batch_accuracy accuracy is : 0.6434\n",
      "Epoch 14, CIFAR-10 Batch 3:  batch loss is :  0.37152\n",
      "batch_accuracy accuracy is : 0.6466\n",
      "Epoch 14, CIFAR-10 Batch 4:  batch loss is :  0.435367\n",
      "batch_accuracy accuracy is : 0.661\n",
      "Epoch 14, CIFAR-10 Batch 5:  batch loss is :  0.398737\n",
      "batch_accuracy accuracy is : 0.6546\n",
      "Epoch 15, CIFAR-10 Batch 1:  batch loss is :  0.468804\n",
      "batch_accuracy accuracy is : 0.6366\n",
      "Epoch 15, CIFAR-10 Batch 2:  batch loss is :  0.412963\n",
      "batch_accuracy accuracy is : 0.66\n",
      "Epoch 15, CIFAR-10 Batch 3:  batch loss is :  0.317838\n",
      "batch_accuracy accuracy is : 0.6456\n",
      "Epoch 15, CIFAR-10 Batch 4:  batch loss is :  0.455834\n",
      "batch_accuracy accuracy is : 0.6592\n",
      "Epoch 15, CIFAR-10 Batch 5:  batch loss is :  0.398611\n",
      "batch_accuracy accuracy is : 0.65\n",
      "Epoch 16, CIFAR-10 Batch 1:  batch loss is :  0.452924\n",
      "batch_accuracy accuracy is : 0.632\n",
      "Epoch 16, CIFAR-10 Batch 2:  batch loss is :  0.396514\n",
      "batch_accuracy accuracy is : 0.6588\n",
      "Epoch 16, CIFAR-10 Batch 3:  batch loss is :  0.314873\n",
      "batch_accuracy accuracy is : 0.6512\n",
      "Epoch 16, CIFAR-10 Batch 4:  batch loss is :  0.331266\n",
      "batch_accuracy accuracy is : 0.6712\n",
      "Epoch 16, CIFAR-10 Batch 5:  batch loss is :  0.345851\n",
      "batch_accuracy accuracy is : 0.6606\n",
      "Epoch 17, CIFAR-10 Batch 1:  batch loss is :  0.422323\n",
      "batch_accuracy accuracy is : 0.637\n",
      "Epoch 17, CIFAR-10 Batch 2:  batch loss is :  0.356978\n",
      "batch_accuracy accuracy is : 0.67\n",
      "Epoch 17, CIFAR-10 Batch 3:  batch loss is :  0.286321\n",
      "batch_accuracy accuracy is : 0.6714\n",
      "Epoch 17, CIFAR-10 Batch 4:  batch loss is :  0.327989\n",
      "batch_accuracy accuracy is : 0.6754\n",
      "Epoch 17, CIFAR-10 Batch 5:  batch loss is :  0.317581\n",
      "batch_accuracy accuracy is : 0.6664\n",
      "Epoch 18, CIFAR-10 Batch 1:  batch loss is :  0.430726\n",
      "batch_accuracy accuracy is : 0.6536\n",
      "Epoch 18, CIFAR-10 Batch 2:  batch loss is :  0.33506\n",
      "batch_accuracy accuracy is : 0.6656\n",
      "Epoch 18, CIFAR-10 Batch 3:  batch loss is :  0.275328\n",
      "batch_accuracy accuracy is : 0.6656\n",
      "Epoch 18, CIFAR-10 Batch 4:  batch loss is :  0.314587\n",
      "batch_accuracy accuracy is : 0.6724\n",
      "Epoch 18, CIFAR-10 Batch 5:  batch loss is :  0.26442\n",
      "batch_accuracy accuracy is : 0.6764\n",
      "Epoch 19, CIFAR-10 Batch 1:  batch loss is :  0.419946\n",
      "batch_accuracy accuracy is : 0.6306\n"
     ]
    },
    {
     "name": "stdout",
     "output_type": "stream",
     "text": [
      "Epoch 19, CIFAR-10 Batch 2:  batch loss is :  0.32723\n",
      "batch_accuracy accuracy is : 0.6708\n",
      "Epoch 19, CIFAR-10 Batch 3:  batch loss is :  0.268479\n",
      "batch_accuracy accuracy is : 0.6768\n",
      "Epoch 19, CIFAR-10 Batch 4:  batch loss is :  0.293296\n",
      "batch_accuracy accuracy is : 0.6828\n",
      "Epoch 19, CIFAR-10 Batch 5:  batch loss is :  0.272078\n",
      "batch_accuracy accuracy is : 0.6678\n",
      "Epoch 20, CIFAR-10 Batch 1:  batch loss is :  0.348017\n",
      "batch_accuracy accuracy is : 0.6506\n",
      "Epoch 20, CIFAR-10 Batch 2:  batch loss is :  0.310362\n",
      "batch_accuracy accuracy is : 0.6884\n",
      "Epoch 20, CIFAR-10 Batch 3:  batch loss is :  0.257958\n",
      "batch_accuracy accuracy is : 0.6686\n",
      "Epoch 20, CIFAR-10 Batch 4:  batch loss is :  0.272767\n",
      "batch_accuracy accuracy is : 0.6806\n",
      "Epoch 20, CIFAR-10 Batch 5:  batch loss is :  0.239769\n",
      "batch_accuracy accuracy is : 0.6712\n",
      "Epoch 21, CIFAR-10 Batch 1:  batch loss is :  0.334527\n",
      "batch_accuracy accuracy is : 0.656\n",
      "Epoch 21, CIFAR-10 Batch 2:  batch loss is :  0.266431\n",
      "batch_accuracy accuracy is : 0.681\n",
      "Epoch 21, CIFAR-10 Batch 3:  batch loss is :  0.224119\n",
      "batch_accuracy accuracy is : 0.6744\n",
      "Epoch 21, CIFAR-10 Batch 4:  batch loss is :  0.273867\n",
      "batch_accuracy accuracy is : 0.6846\n",
      "Epoch 21, CIFAR-10 Batch 5:  batch loss is :  0.258305\n",
      "batch_accuracy accuracy is : 0.6868\n",
      "Epoch 22, CIFAR-10 Batch 1:  batch loss is :  0.359627\n",
      "batch_accuracy accuracy is : 0.642\n",
      "Epoch 22, CIFAR-10 Batch 2:  batch loss is :  0.261398\n",
      "batch_accuracy accuracy is : 0.674\n",
      "Epoch 22, CIFAR-10 Batch 3:  batch loss is :  0.204149\n",
      "batch_accuracy accuracy is : 0.6856\n",
      "Epoch 22, CIFAR-10 Batch 4:  batch loss is :  0.261102\n",
      "batch_accuracy accuracy is : 0.6886\n",
      "Epoch 22, CIFAR-10 Batch 5:  batch loss is :  0.216549\n",
      "batch_accuracy accuracy is : 0.678\n",
      "Epoch 23, CIFAR-10 Batch 1:  batch loss is :  0.294725\n",
      "batch_accuracy accuracy is : 0.6784\n",
      "Epoch 23, CIFAR-10 Batch 2:  batch loss is :  0.25272\n",
      "batch_accuracy accuracy is : 0.6854\n",
      "Epoch 23, CIFAR-10 Batch 3:  batch loss is :  0.206383\n",
      "batch_accuracy accuracy is : 0.6798\n",
      "Epoch 23, CIFAR-10 Batch 4:  batch loss is :  0.242764\n",
      "batch_accuracy accuracy is : 0.6922\n",
      "Epoch 23, CIFAR-10 Batch 5:  batch loss is :  0.212313\n",
      "batch_accuracy accuracy is : 0.6956\n",
      "Epoch 24, CIFAR-10 Batch 1:  batch loss is :  0.270336\n",
      "batch_accuracy accuracy is : 0.6666\n",
      "Epoch 24, CIFAR-10 Batch 2:  batch loss is :  0.24668\n",
      "batch_accuracy accuracy is : 0.6766\n",
      "Epoch 24, CIFAR-10 Batch 3:  batch loss is :  0.189903\n",
      "batch_accuracy accuracy is : 0.6988\n",
      "Epoch 24, CIFAR-10 Batch 4:  batch loss is :  0.221409\n",
      "batch_accuracy accuracy is : 0.6874\n",
      "Epoch 24, CIFAR-10 Batch 5:  batch loss is :  0.179099\n",
      "batch_accuracy accuracy is : 0.6972\n",
      "Epoch 25, CIFAR-10 Batch 1:  batch loss is :  0.253476\n",
      "batch_accuracy accuracy is : 0.6828\n",
      "Epoch 25, CIFAR-10 Batch 2:  batch loss is :  0.220017\n",
      "batch_accuracy accuracy is : 0.684\n",
      "Epoch 25, CIFAR-10 Batch 3:  batch loss is :  0.207023\n",
      "batch_accuracy accuracy is : 0.688\n",
      "Epoch 25, CIFAR-10 Batch 4:  batch loss is :  0.208132\n",
      "batch_accuracy accuracy is : 0.6944\n",
      "Epoch 25, CIFAR-10 Batch 5:  batch loss is :  0.190509\n",
      "batch_accuracy accuracy is : 0.6968\n"
     ]
    }
   ],
   "source": [
    "\"\"\"\n",
    "DON'T MODIFY ANYTHING IN THIS CELL\n",
    "\"\"\"\n",
    "save_model_path = './image_classification'\n",
    "\n",
    "print('Training...')\n",
    "with tf.Session() as sess:\n",
    "    # Initializing the variables\n",
    "    sess.run(tf.global_variables_initializer())\n",
    "    \n",
    "    # Training cycle\n",
    "    for epoch in range(epochs):\n",
    "        # Loop over all batches\n",
    "        n_batches = 5\n",
    "        for batch_i in range(1, n_batches + 1):\n",
    "            for batch_features, batch_labels in helper.load_preprocess_training_batch(batch_i, batch_size):\n",
    "                train_neural_network(sess, optimizer, keep_probability, batch_features, batch_labels)\n",
    "            print('Epoch {:>2}, CIFAR-10 Batch {}:  '.format(epoch + 1, batch_i), end='')\n",
    "            print_stats(sess, batch_features, batch_labels, cost, accuracy)\n",
    "            \n",
    "    # Save Model\n",
    "    saver = tf.train.Saver()\n",
    "    save_path = saver.save(sess, save_model_path)"
   ]
  },
  {
   "cell_type": "markdown",
   "metadata": {},
   "source": [
    "# Checkpoint\n",
    "The model has been saved to disk.\n",
    "## Test Model\n",
    "Test your model against the test dataset.  This will be your final accuracy. You should have an accuracy greater than 50%. If you don't, keep tweaking the model architecture and parameters."
   ]
  },
  {
   "cell_type": "code",
   "execution_count": 19,
   "metadata": {},
   "outputs": [
    {
     "name": "stdout",
     "output_type": "stream",
     "text": [
      "Testing Accuracy: 0.68076171875\n",
      "\n"
     ]
    },
    {
     "data": {
      "image/png": "[encoded data removed]",
      "text/plain": [
       "<matplotlib.figure.Figure at 0x7fa9c4cb8780>"
      ]
     },
     "metadata": {
      "image/png": {
       "height": 319,
       "width": 355
      }
     },
     "output_type": "display_data"
    }
   ],
   "source": [
    "\"\"\"\n",
    "DON'T MODIFY ANYTHING IN THIS CELL\n",
    "\"\"\"\n",
    "%matplotlib inline\n",
    "%config InlineBackend.figure_format = 'retina'\n",
    "\n",
    "import tensorflow as tf\n",
    "import pickle\n",
    "import helper\n",
    "import random\n",
    "\n",
    "# Set batch size if not already set\n",
    "try:\n",
    "    if batch_size:\n",
    "        pass\n",
    "except NameError:\n",
    "    batch_size = 64\n",
    "\n",
    "save_model_path = './image_classification'\n",
    "n_samples = 4\n",
    "top_n_predictions = 3\n",
    "\n",
    "def test_model():\n",
    "    \"\"\"\n",
    "    Test the saved model against the test dataset\n",
    "    \"\"\"\n",
    "\n",
    "    test_features, test_labels = pickle.load(open('preprocess_training.p', mode='rb'))\n",
    "    loaded_graph = tf.Graph()\n",
    "\n",
    "    with tf.Session(graph=loaded_graph) as sess:\n",
    "        # Load model\n",
    "        loader = tf.train.import_meta_graph(save_model_path + '.meta')\n",
    "        loader.restore(sess, save_model_path)\n",
    "\n",
    "        # Get Tensors from loaded model\n",
    "        loaded_x = loaded_graph.get_tensor_by_name('x:0')\n",
    "        loaded_y = loaded_graph.get_tensor_by_name('y:0')\n",
    "        loaded_keep_prob = loaded_graph.get_tensor_by_name('keep_prob:0')\n",
    "        loaded_logits = loaded_graph.get_tensor_by_name('logits:0')\n",
    "        loaded_acc = loaded_graph.get_tensor_by_name('accuracy:0')\n",
    "        \n",
    "        # Get accuracy in batches for memory limitations\n",
    "        test_batch_acc_total = 0\n",
    "        test_batch_count = 0\n",
    "        \n",
    "        for train_feature_batch, train_label_batch in helper.batch_features_labels(test_features, test_labels, batch_size):\n",
    "            test_batch_acc_total += sess.run(\n",
    "                loaded_acc,\n",
    "                feed_dict={loaded_x: train_feature_batch, loaded_y: train_label_batch, loaded_keep_prob: 1.0})\n",
    "            test_batch_count += 1\n",
    "\n",
    "        print('Testing Accuracy: {}\\n'.format(test_batch_acc_total/test_batch_count))\n",
    "\n",
    "        # Print Random Samples\n",
    "        random_test_features, random_test_labels = tuple(zip(*random.sample(list(zip(test_features, test_labels)), n_samples)))\n",
    "        random_test_predictions = sess.run(\n",
    "            tf.nn.top_k(tf.nn.softmax(loaded_logits), top_n_predictions),\n",
    "            feed_dict={loaded_x: random_test_features, loaded_y: random_test_labels, loaded_keep_prob: 1.0})\n",
    "        helper.display_image_predictions(random_test_features, random_test_labels, random_test_predictions)\n",
    "\n",
    "\n",
    "test_model()"
   ]
  },
  {
   "cell_type": "markdown",
   "metadata": {},
   "source": [
    "## Why 50-70% Accuracy?\n",
    "You might be wondering why you can't get an accuracy any higher. First things first, 50% isn't bad for a simple CNN.  Pure guessing would get you 10% accuracy. However, you might notice people are getting scores [well above 70%](http://rodrigob.github.io/are_we_there_yet/build/classification_datasets_results.html#43494641522d3130).  That's because we haven't taught you all there is to know about neural networks. We still need to cover a few more techniques.\n",
    "## Submitting This Project\n",
    "When submitting this project, make sure to run all the cells before saving the notebook.  Save the notebook file as \"dlnd_image_classification.ipynb\" and save it as a HTML file under \"File\" -> \"Download as\".  Include the \"helper.py\" and \"problem_unittests.py\" files in your submission."
   ]
  },
  {
   "cell_type": "code",
   "execution_count": null,
   "metadata": {
    "collapsed": true
   },
   "outputs": [],
   "source": []
  }
 ],
 "metadata": {
  "kernelspec": {
   "display_name": "Python 3",
   "language": "python",
   "name": "python3"
  },
  "language_info": {
   "codemirror_mode": {
    "name": "ipython",
    "version": 3
   },
   "file_extension": ".py",
   "mimetype": "text/x-python",
   "name": "python",
   "nbconvert_exporter": "python",
   "pygments_lexer": "ipython3",
   "version": "3.5.2"
  }
 },
 "nbformat": 4,
 "nbformat_minor": 1
}
